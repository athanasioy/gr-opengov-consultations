{
 "cells": [
  {
   "cell_type": "code",
   "execution_count": null,
   "metadata": {},
   "outputs": [],
   "source": [
    "from DataObjects.article import Article\n",
    "from DataObjects.legislation import Legislation\n",
    "from DataObjects.public_consultation import PublicConsultation\n",
    "from DataObjects.base import Base\n",
    "from typing import Any\n",
    "import functools\n",
    "import requests\n",
    "import re\n",
    "from sqlalchemy import create_engine, select, union_all, func, delete, and_\n",
    "from sqlalchemy.orm import Session, aliased\n",
    "from typing import Callable\n",
    "from bs4 import BeautifulSoup\n",
    "import os\n",
    "from configparser import ConfigParser\n",
    "from datetime import datetime\n",
    "config = ConfigParser()\n",
    "config.read(\"config.ini\")\n",
    "from pathlib import Path"
   ]
  }
 ],
 "metadata": {
  "language_info": {
   "name": "python"
  },
  "orig_nbformat": 4
 },
 "nbformat": 4,
 "nbformat_minor": 2
}
