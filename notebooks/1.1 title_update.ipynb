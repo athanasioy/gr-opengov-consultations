{
 "cells": [
  {
   "cell_type": "code",
   "execution_count": null,
   "metadata": {},
   "outputs": [],
   "source": [
    "import os\n",
    "import sys\n",
    "module_path = os.path.abspath(os.path.join('..'))\n",
    "if module_path not in sys.path:\n",
    "    sys.path.append(module_path)"
   ]
  },
  {
   "cell_type": "code",
   "execution_count": 1,
   "metadata": {},
   "outputs": [
    {
     "data": {
      "text/plain": [
       "['config.ini']"
      ]
     },
     "execution_count": 1,
     "metadata": {},
     "output_type": "execute_result"
    }
   ],
   "source": [
    "from data_objects.article import Article\n",
    "from data_objects.legislation import Legislation\n",
    "from data_objects.public_consultation import PublicConsultation\n",
    "from data_objects.base import Base\n",
    "\n",
    "import requests\n",
    "\n",
    "from sqlalchemy import create_engine, select, union_all, func, delete\n",
    "from sqlalchemy.orm import Session, aliased\n",
    "\n",
    "from bs4 import BeautifulSoup\n",
    "import time\n",
    "from configparser import ConfigParser\n",
    "\n",
    "config = ConfigParser()\n",
    "config.read(\"config.ini\")"
   ]
  },
  {
   "cell_type": "code",
   "execution_count": 2,
   "metadata": {},
   "outputs": [],
   "source": [
    "engine = create_engine(config.get('DEFAULT', 'db_file'))"
   ]
  },
  {
   "cell_type": "markdown",
   "metadata": {},
   "source": [
    "### Delete Duplicate records based on 'scrap_url'"
   ]
  },
  {
   "cell_type": "code",
   "execution_count": 3,
   "metadata": {},
   "outputs": [],
   "source": [
    "with Session(engine) as sess:\n",
    "    stmt = select(func.min(Legislation.id)).group_by(Legislation.scrap_url).having(func.count(Legislation.scrap_url)>1)\n",
    "    rows = sess.execute(stmt)\n",
    "    for row in rows:\n",
    "        print(f\"{row[0]}\")"
   ]
  },
  {
   "cell_type": "code",
   "execution_count": 4,
   "metadata": {},
   "outputs": [
    {
     "name": "stdout",
     "output_type": "stream",
     "text": [
      "rows to be deleted\n"
     ]
    }
   ],
   "source": [
    "with Session(engine) as sess:\n",
    "    subq = select(func.min(Legislation.id).label(\"id\")).group_by(Legislation.scrap_url).having(func.count(Legislation.scrap_url)>1).subquery()\n",
    "    stmt = select(Legislation).join(subq, subq.c.id==Legislation.id)\n",
    "\n",
    "    rows = sess.execute(stmt).scalars()\n",
    "    print(\"rows to be deleted\")\n",
    "    for row in rows:\n",
    "        print(f\"{row}\")\n",
    "    delete_stmt = delete(Legislation).where(Legislation.id.in_(\n",
    "        select(func.min(Legislation.id).label(\"id\")).group_by(Legislation.scrap_url).having(func.count(Legislation.scrap_url)>1)\n",
    "    ))\n",
    "    sess.execute(delete_stmt)\n",
    "\n",
    "    rows = sess.execute(stmt).scalars()\n",
    "    # verify that rows are actually deleted\n",
    "    for row in rows:\n",
    "        print(f\"{row}\")\n",
    "    \n",
    "    sess.commit()\n"
   ]
  },
  {
   "cell_type": "code",
   "execution_count": 5,
   "metadata": {},
   "outputs": [],
   "source": [
    "#delete associated articles and Public Consultations\n",
    "with Session(engine) as sess:\n",
    "    stmt = select(Article).where(Article.legislation_id.in_(\n",
    "        [704, 701, 700, 697, 696, 702, 698, 703, 705, 699]\n",
    "    ))\n",
    "    articles = sess.execute(stmt).scalars()\n",
    "    for article in articles:\n",
    "        print(f\"{article}\")\n",
    "        for publicConsultation in article.public_consultations:\n",
    "            sess.delete(publicConsultation)\n",
    "        sess.delete(article)    \n",
    "        \n",
    "    sess.commit()\n"
   ]
  },
  {
   "cell_type": "markdown",
   "metadata": {},
   "source": [
    "### Update Title"
   ]
  },
  {
   "cell_type": "code",
   "execution_count": 28,
   "metadata": {},
   "outputs": [
    {
     "name": "stdout",
     "output_type": "stream",
     "text": [
      "Δημόσιες υπαίθριες συναθροίσεις\n"
     ]
    }
   ],
   "source": [
    "url = \"http://www.opengov.gr/yptp/?p=2822\"\n",
    "def get_correct_title(url:str) -> str:\n",
    "    r=requests.get(url)\n",
    "    soup = BeautifulSoup(r.content, features=\"html.parser\")\n",
    "    titles = soup.select('h3')\n",
    "    title = titles[len(titles)-1].text\n",
    "    return title\n",
    "\n",
    "t = get_correct_title(url)\n",
    "print(t)"
   ]
  },
  {
   "cell_type": "code",
   "execution_count": 29,
   "metadata": {},
   "outputs": [
    {
     "name": "stdout",
     "output_type": "stream",
     "text": [
      "Legislation(id=27, title=Ολοκλήρωση δημόσιας ηλεκτρονικής διαβούλευσης, ministry=Υπουργείο Υγείας, date_posted=2022-10-20)\n",
      "Legislation(id=27, title=Διαβούλευση επί του σχεδίου νόμου: «Δευτεροβάθμια περίθαλψη, ιατρική εκπαίδευση και λοιπές διατάξεις αρμοδιότητας του Υπουργείου Υγείας», ministry=Υπουργείο Υγείας, date_posted=2022-10-20)\n",
      "Legislation(id=35, title=Ολοκλήρωση δημόσιας ηλεκτρονικής διαβούλευσης, ministry=Εργασίας και Κοινωνικής Ασφάλισης, date_posted=2022-07-13)\n",
      "Legislation(id=35, title=Δημόσια ηλεκτρονική διαβούλευση για την «ΕΘΝΙΚΗ ΣΤΡΑΤΗΓΙΚΗ ΓΙΑ ΤΙΣ ΕΝΕΡΓΗΤΙΚΕΣ ΠΟΛΙΤΙΚΕΣ ΑΠΑΣΧΟΛΗΣΗΣ», ministry=Εργασίας και Κοινωνικής Ασφάλισης, date_posted=2022-07-13)\n",
      "Legislation(id=40, title=Ολοκλήρωση δημόσιας ηλεκτρονικής διαβούλευσης, ministry=Εργασίας και Κοινωνικής Ασφάλισης, date_posted=2022-06-20)\n",
      "Legislation(id=40, title=Δημόσια ηλεκτρονική διαβούλευση επί του σχεδίου Κοινής Απόφασης των Υπουργών Εργασίας και Κοινωνικών Υποθέσεων και Υγείας με τίτλο «Εφαρμογή των διατάξεων της περ. β), παρ.3, του άρθρου 5 του ν. 3846/2010 (Α΄66), όπως αντικαταστάθηκε με το άρθρο 67 του ν.4808/2021 (Α’ 101) περί παροχής εξ αποστάσεως εργασίας με τηλεργασία μετά από αίτηση του εργαζομένου», ministry=Εργασίας και Κοινωνικής Ασφάλισης, date_posted=2022-06-20)\n",
      "Legislation(id=41, title=Ολοκλήρωση δημόσιας ηλεκτρονικής διαβούλευσης, ministry=Υπουργείο Υγείας, date_posted=2022-06-14)\n",
      "Legislation(id=41, title=Δημόσια ηλεκτρονική διαβούλευση επί του σχεδίου νόμου «Ρυθμίσεις για την αντιμετώπιση της πανδημίας του κορωνοϊού COVID-19 και την προστασία της δημόσιας υγείας», ministry=Υπουργείο Υγείας, date_posted=2022-06-14)\n",
      "Legislation(id=64, title=Ολοκλήρωση δημόσιας ηλεκτρονικής διαβούλευσης, ministry=Εργασίας και Κοινωνικής Ασφάλισης, date_posted=2021-08-20)\n",
      "Legislation(id=64, title=Δημόσια ηλεκτρονική διαβούλευση για το σχέδιο νόμου: «Ενίσχυση της κοινωνικής προστασίας: διατάξεις για την πρόληψη και αντιμετώπιση περιστατικών κακοποίησης και παραμέλησης ανηλίκων, Πρόγραμμα “Κυψέλη” για την αναβάθμιση της ποιότητας των παρεχόμενων υπηρεσιών σε βρεφικούς, παιδικούς και βρεφονηπιακούς σταθμούς, διατάξεις για την προώθηση της αναδοχής και της υιοθεσίας, Προσωπικός Βοηθός για τα Άτομα με Αναπηρία και άλλες διατάξεις», ministry=Εργασίας και Κοινωνικής Ασφάλισης, date_posted=2021-08-20)\n",
      "Legislation(id=126, title=«Ολοκλήρωση Δημοσίευσης Διαβούλευσης», ministry=Υπουργείο Παιδείας, Θρησκευμάτων και Αθλητισμού, date_posted=2020-04-22)\n",
      "Legislation(id=126, title=Αναβάθμιση του Σχολείου και άλλες διατάξεις, ministry=Υπουργείο Παιδείας, Θρησκευμάτων και Αθλητισμού, date_posted=2020-04-22)\n",
      "Legislation(id=315, title=ΕΤΗΣΙΑ ΕΚΘΕΣΗ ΓΙΑ ΤΗ ΔΙΑΘΕΣΗ ΚΑΙ ΠΕΡΑΙΤΕΡΩ ΧΡΗΣΗ ΤΩΝ ΑΝΟΙΚΤΩΝ ΔΕΔΟΜΕΝΩΝ, ministry=Πρώην Υπουργείο Διοικητικής Ανασυγκρότησης, date_posted=2017-03-31)\n",
      "Legislation(id=315, title=ΕΤΗΣΙΑ ΕΚΘΕΣΗ ΓΙΑ ΤΗ ΔΙΑΘΕΣΗ ΚΑΙ ΠΕΡΑΙΤΕΡΩ ΧΡΗΣΗ ΤΩΝ ΑΝΟΙΚΤΩΝ ΔΕΔΟΜΕΝΩΝ, ministry=Πρώην Υπουργείο Διοικητικής Ανασυγκρότησης, date_posted=2017-03-31)\n",
      "Legislation(id=354, title=«Ολοκλήρωση Δημοσίευσης Διαβούλευσης», ministry=Εργασίας και Κοινωνικής Ασφάλισης, date_posted=2016-09-29)\n",
      "Legislation(id=354, title=«Εθνικός Μηχανισμός Συντονισμού, Παρακολούθησης και Αξιολόγησης των Πολιτικών Κοινωνικής Ένταξης και Κοινωνικής Συνοχής και άλλες διατάξεις για την Κοινωνική Αλληλεγγύη» του Υπουργείου Εργασίας, Κοινωνικής Ασφάλισης και Κοινωνικής Αλληλεγγύης, ministry=Εργασίας και Κοινωνικής Ασφάλισης, date_posted=2016-09-29)\n",
      "Legislation(id=429, title=ΕΤΗΣΙΑ ΕΚΘΕΣΗ ΓΙΑ ΤΗ ΔΙΑΘΕΣΗ ΚΑΙ ΠΕΡΑΙΤΕΡΩ ΧΡΗΣΗ ΤΩΝ ΑΝΟΙΚΤΩΝ ΔΕΔΟΜΕΝΩΝ, ministry=Υπουργείο Εσωτερικών, date_posted=2016-02-19)\n",
      "Legislation(id=429, title=ΕΤΗΣΙΑ ΕΚΘΕΣΗ ΓΙΑ ΤΗ ΔΙΑΘΕΣΗ ΚΑΙ ΠΕΡΑΙΤΕΡΩ ΧΡΗΣΗ ΤΩΝ ΑΝΟΙΚΤΩΝ ΔΕΔΟΜΕΝΩΝ, ministry=Υπουργείο Εσωτερικών, date_posted=2016-02-19)\n",
      "Legislation(id=547, title=«Ολοκλήρωση της Δημόσιας Διαβούλευσης», ministry=Yπουργείο Περιβάλλοντος και Ενέργειας, date_posted=2014-03-27)\n",
      "Legislation(id=547, title=Δημόσια διαβούλευση επί σχεδίου νόμου Νέο Ρυθμιστικό Σχέδιο Αθήνας- Αττικής, Νέο Ρυθμιστικό Σχέδιο Θεσσαλονίκης, ministry=Yπουργείο Περιβάλλοντος και Ενέργειας, date_posted=2014-03-27)\n",
      "Legislation(id=551, title=«Ολοκλήρωση της Δημόσιας Διαβούλευσης», ministry=Yπουργείο Περιβάλλοντος και Ενέργειας, date_posted=2014-03-10)\n",
      "Legislation(id=551, title=Δημόσια Διαβούλευση για το σχέδιο νόμου «Δημιουργία νέας καθετοποιημένης εταιρίας Ηλεκτρικής Ενέργειας «, ministry=Yπουργείο Περιβάλλοντος και Ενέργειας, date_posted=2014-03-10)\n",
      "Legislation(id=552, title=«Ολοκλήρωση της Δημόσιας Διαβούλευσης», ministry=Yπουργείο Περιβάλλοντος και Ενέργειας, date_posted=2014-03-07)\n",
      "Legislation(id=552, title=Δημόσια διαβούλευση για το σχέδιο νόμου «Ρυθμίσεις για την εξυγίανση του ειδικού λογαριασμού του άρθρου 40 Ν.2773/1999 και λοιπές διατάξεις», ministry=Yπουργείο Περιβάλλοντος και Ενέργειας, date_posted=2014-03-07)\n",
      "Legislation(id=646, title=«Ολοκλήρωση της Δημόσιας Διαβούλευσης», ministry=Υπουργείο Τουρισμού, date_posted=2013-01-16)\n",
      "Legislation(id=646, title=Δημόσια διαβούλευση στο σχέδιο νόμου «Αναδιάρθρωση Ελληνικού Οργανισμού Τουρισμού, μείωση διοικητικών βαρών, απλούστευση διαδικασιών για την ενίσχυση της τουριστικής επιχειρηματικότητας και λοιπές διατάξεις»., ministry=Υπουργείο Τουρισμού, date_posted=2013-01-16)\n",
      "Legislation(id=732, title=«Ολοκλήρωση της Δημόσιας Διαβούλευσης», ministry=Υπουργείο Αγροτικής Ανάπτυξης και Τροφίμων, date_posted=2011-11-11)\n",
      "Legislation(id=732, title=Δημόσια Διαβούλευση του Σχεδίου Νόμου «Ρυθμίσεις για την κτηνοτροφία και τις κτηνοτροφικές εγκαταστάσεις», ministry=Υπουργείο Αγροτικής Ανάπτυξης και Τροφίμων, date_posted=2011-11-11)\n"
     ]
    }
   ],
   "source": [
    "def get_correct_title(url:str) -> str:\n",
    "    r=requests.get(url)\n",
    "    soup = BeautifulSoup(r.content, features=\"html.parser\")\n",
    "    titles = soup.select('h3')\n",
    "    title = titles[len(titles)-1].text\n",
    "    return title\n",
    "\n",
    "with Session(engine) as sess:\n",
    "    subq = select(Legislation.title).group_by(Legislation.title).having(func.count(Legislation.title)>1)\n",
    "    stmt = select(Legislation).where(Legislation.title.in_(subq))\n",
    "    legislations_with_duplicate_titles = sess.execute(stmt).scalars()\n",
    "\n",
    "    for legObj in legislations_with_duplicate_titles:\n",
    "        print(f\"{legObj}\")\n",
    "        correct_title = get_correct_title(legObj.scrap_url)\n",
    "        legObj.title = correct_title\n",
    "        print(legObj)\n",
    "        # break\n",
    "    \n",
    "    sess.commit()\n"
   ]
  },
  {
   "cell_type": "markdown",
   "metadata": {},
   "source": [
    "remove new line from title"
   ]
  },
  {
   "cell_type": "code",
   "execution_count": 18,
   "metadata": {},
   "outputs": [],
   "source": [
    "with Session(engine) as sess:\n",
    "    stmt = select(Legislation)#.where(Legislation.id==1035)\n",
    "    legislations = sess.execute(stmt).scalars()\n",
    "\n",
    "    for legObj in legislations:\n",
    "        legObj:Legislation\n",
    "        # print(legObj)\n",
    "        # print(legObj.title)\n",
    "        # print()\n",
    "        legObj.title = legObj.title.replace(\"\\r\",\"\").replace(\"\\n\",\"\").replace(\"\\r\\n\",\"\").strip()\n",
    "        # print(legObj.title)\n",
    "        sess.commit()\n"
   ]
  },
  {
   "cell_type": "code",
   "execution_count": 9,
   "metadata": {},
   "outputs": [
    {
     "name": "stdout",
     "output_type": "stream",
     "text": [
      "Ενσωμάτωση στην εθνική έννομη τάξη της Οδηγίας (ΕΕ) 2019/884 του Ευρωπαϊκού Κοινοβουλίου και \n",
      "του Συμβουλίου της 17ης Απρίλιου 2019 για την τροποποίηση της απόφασης - πλαισίου 2009/315/\n",
      "ΔΕΥ του Συμβουλίου όσον αφορά την ανταλλαγή πληροφοριών σχετικά με υπηκόους τρίτων χωρών \n",
      "και όσον αφορά το Ευρωπαϊκό Σύστημα Πληροφοριών Ποινικού Μητρώου (ECRIS), και για την \n",
      "αντικατάσταση της απόφασης 2009/316/ΔΕΥ του Συμβουλίου (L 151) και λοιπές ρυθμίσεις του \n",
      "Υπουργείου Δικαιοσύνης\n",
      "\n",
      "Ενσωμάτωση στην εθνική έννομη τάξη της Οδηγίας (ΕΕ) 2019/884 του Ευρωπαϊκού Κοινοβουλίου και του Συμβουλίου της 17ης Απρίλιου 2019 για την τροποποίηση της απόφασης - πλαισίου 2009/315/ΔΕΥ του Συμβουλίου όσον αφορά την ανταλλαγή πληροφοριών σχετικά με υπηκόους τρίτων χωρών και όσον αφορά το Ευρωπαϊκό Σύστημα Πληροφοριών Ποινικού Μητρώου (ECRIS), και για την αντικατάσταση της απόφασης 2009/316/ΔΕΥ του Συμβουλίου (L 151) και λοιπές ρυθμίσεις του Υπουργείου Δικαιοσύνης\n"
     ]
    }
   ],
   "source": [
    "txt = \"\"\"Ενσωμάτωση στην εθνική έννομη τάξη της Οδηγίας (ΕΕ) 2019/884 του Ευρωπαϊκού Κοινοβουλίου και \n",
    "του Συμβουλίου της 17ης Απρίλιου 2019 για την τροποποίηση της απόφασης - πλαισίου 2009/315/\n",
    "ΔΕΥ του Συμβουλίου όσον αφορά την ανταλλαγή πληροφοριών σχετικά με υπηκόους τρίτων χωρών \n",
    "και όσον αφορά το Ευρωπαϊκό Σύστημα Πληροφοριών Ποινικού Μητρώου (ECRIS), και για την \n",
    "αντικατάσταση της απόφασης 2009/316/ΔΕΥ του Συμβουλίου (L 151) και λοιπές ρυθμίσεις του \n",
    "Υπουργείου Δικαιοσύνης\"\"\"\n",
    "print(txt)\n",
    "print()\n",
    "print(txt.replace(\"\\n\",\"\"))"
   ]
  },
  {
   "cell_type": "code",
   "execution_count": null,
   "metadata": {},
   "outputs": [],
   "source": []
  }
 ],
 "metadata": {
  "kernelspec": {
   "display_name": ".venv",
   "language": "python",
   "name": "python3"
  },
  "language_info": {
   "codemirror_mode": {
    "name": "ipython",
    "version": 3
   },
   "file_extension": ".py",
   "mimetype": "text/x-python",
   "name": "python",
   "nbconvert_exporter": "python",
   "pygments_lexer": "ipython3",
   "version": "3.10.7"
  },
  "orig_nbformat": 4
 },
 "nbformat": 4,
 "nbformat_minor": 2
}
