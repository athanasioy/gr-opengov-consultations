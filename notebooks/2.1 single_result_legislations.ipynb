{
 "cells": [
  {
   "cell_type": "code",
   "execution_count": null,
   "metadata": {},
   "outputs": [],
   "source": [
    "import os\n",
    "import sys\n",
    "module_path = os.path.abspath(os.path.join('..'))\n",
    "if module_path not in sys.path:\n",
    "    sys.path.append(module_path)"
   ]
  },
  {
   "cell_type": "code",
   "execution_count": 2,
   "metadata": {},
   "outputs": [],
   "source": [
    "from data_objects.article import Article\n",
    "from data_objects.legislation import Legislation\n",
    "from data_objects.public_consultation import PublicConsultation\n",
    "from data_objects.base import Base\n",
    "from typing import Any\n",
    "import functools\n",
    "import requests\n",
    "import re\n",
    "from sqlalchemy import create_engine, select, union_all, func, delete, and_\n",
    "from sqlalchemy.orm import Session, aliased\n",
    "from typing import Callable\n",
    "from bs4 import BeautifulSoup\n",
    "import os\n",
    "from configparser import ConfigParser\n",
    "from datetime import datetime\n",
    "config = ConfigParser()\n",
    "config.read(\"config.ini\")\n",
    "from pathlib import Path\n",
    "import csv"
   ]
  },
  {
   "cell_type": "code",
   "execution_count": 3,
   "metadata": {},
   "outputs": [
    {
     "name": "stdout",
     "output_type": "stream",
     "text": [
      "['11', '12', '13', '14', '16', '19', '20', '23', '24', '25', '27', '29', '30', '33', '34', '36', '37', '38', '39', '43', '45', '46', '49', '54', '62', '63', '66', '67', '68', '69', '70', '71', '78', '83', '84', '90', '95', '100', '110', '111', '119', '120', '122', '124', '129', '131', '135', '136', '138', '139', '141', '143', '146', '147', '148', '154', '160', '168', '179', '187', '189', '201', '218', '219', '226', '227', '230', '232', '233', '236', '239', '241', '243', '247', '249', '254', '258', '263', '281', '301', '303', '309', '310', '312', '313', '314', '317', '319', '321', '323', '324', '325', '329', '354', '357', '362', '363', '372', '379', '382', '384', '386', '387', '391', '393', '394', '396', '399', '406', '412', '416', '430', '436', '441', '444', '458', '459', '478', '483', '484', '485', '486', '497', '499', '504', '505', '514', '519', '521', '529', '530', '532', '533', '537', '539', '544', '546', '548', '549', '550', '556', '558', '559', '562', '563', '569', '574', '579', '582', '589', '593', '598', '601', '602', '607', '609', '612', '618', '621', '624', '625', '643', '644', '650', '653', '670', '691', '695', '714', '718', '732', '770', '773', '778', '780', '795', '796', '805', '806', '810', '812', '818', '820', '824', '825', '826', '827', '829', '832', '835', '837', '843', '848', '849', '851', '854', '855', '857', '864', '868', '870', '875', '878', '880', '']\n"
     ]
    }
   ],
   "source": [
    "single_results_path = Path(\"single_legislations.txt\")\n",
    "\n",
    "single_results = single_results_path.read_text()\n",
    "print(single_results.split(\"\\n\"))"
   ]
  },
  {
   "cell_type": "code",
   "execution_count": 4,
   "metadata": {},
   "outputs": [],
   "source": [
    "engine = create_engine(config.get('DEFAULT', 'db_file'))"
   ]
  },
  {
   "cell_type": "code",
   "execution_count": 13,
   "metadata": {},
   "outputs": [
    {
     "name": "stdout",
     "output_type": "stream",
     "text": [
      "SELECT \"Legislation\".id, \"Legislation\".title, \"Legislation\".ministry, \"Legislation\".date_posted, \"Legislation\".parliament_url, \"Legislation\".legislation_pdf_url, \"Legislation\".scrap_url, \"Legislation\".final_legislation_id, \"Legislation\".fek_number, \"Legislation\".legislation_type \n",
      "FROM \"Legislation\" \n",
      "WHERE \"Legislation\".id IN (__[POSTCOMPILE_id_1])\n",
      "14  has None\n",
      "136  has None\n",
      "143  has None\n",
      "160  has None\n",
      "179  has None\n",
      "232  has None\n",
      "241  has None\n",
      "394  has None\n",
      "436  has None\n",
      "441  has None\n",
      "444  has None\n",
      "478  has None\n",
      "505  has None\n",
      "537  has None\n",
      "550  has None\n",
      "569  has None\n",
      "612  has None\n",
      "780  has None\n",
      "810  has None\n",
      "851  has None\n",
      "854  has None\n"
     ]
    }
   ],
   "source": [
    "with Session(engine) as sess:\n",
    "    stmt = select(Legislation).where(Legislation.id.in_(single_results.split(\"\\n\")))\n",
    "    print(stmt)\n",
    "    legObjs = sess.execute(stmt).scalars()\n",
    "\n",
    "    with open('single_result_leg.csv','w',encoding='utf-8', newline='') as f:\n",
    "        writer = csv.writer(f)\n",
    "        for legObj in legObjs:\n",
    "            # print(legObj.id)\n",
    "            if legObj.final_legislation_id is None:\n",
    "                print(legObj.id,\" has None\")\n",
    "                continue\n",
    "            writer.writerow([legObj.id,\n",
    "                             legObj.title,\n",
    "                             legObj.scrap_url,\n",
    "                             legObj.final_legislation_id,\n",
    "                             legObj.final_legislation.title,\n",
    "                             legObj.final_legislation.fek_number,\n",
    "                             legObj.final_legislation.scrap_url])"
   ]
  },
  {
   "cell_type": "code",
   "execution_count": 8,
   "metadata": {},
   "outputs": [
    {
     "name": "stdout",
     "output_type": "stream",
     "text": [
      "SELECT \"Legislation\".id, \"Legislation\".title, \"Legislation\".ministry, \"Legislation\".date_posted, \"Legislation\".parliament_url, \"Legislation\".legislation_pdf_url, \"Legislation\".scrap_url, \"Legislation\".final_legislation_id, \"Legislation\".fek_number, \"Legislation\".legislation_type \n",
      "FROM \"Legislation\" \n",
      "WHERE \"Legislation\".id = :id_1\n",
      "Legislation(id=11, title=Διαβούλευση για το σχέδιο νόμου υπό τον τίτλο: «Ενιαίο ρυθμιστικό πλαίσιο για την οργάνωση και λειτουργία του Ελληνικού Γεωργικού Οργανισμού-ΔΗΜΗΤΡΑ», ministry=Υπουργείο Αγροτικής Ανάπτυξης και Τροφίμων, date_posted=2023-02-13)\n",
      "Ενιαίο ρυθμιστικό πλαίσιο για την οργάνωση και λειτουργία του Ελληνικού Γεωργικού Οργανισμού - ΔΗΜΗΤΡΑ, σύσταση και λειτουργία φορέα διαχείρισης Παραδοσιακού Ελαιώνα Άμφισσας και άλλες διατάξεις για την ενίσχυση της αγροτικής ανάπτυξης\n"
     ]
    }
   ],
   "source": [
    "with Session(engine) as sess:\n",
    "    stmt = select(Legislation).where(Legislation.id==11)\n",
    "    print(stmt)\n",
    "    l = sess.execute(stmt).scalars().one()\n",
    "    print(l)\n",
    "    print(l.final_legislation.title)"
   ]
  },
  {
   "cell_type": "code",
   "execution_count": null,
   "metadata": {},
   "outputs": [],
   "source": []
  }
 ],
 "metadata": {
  "kernelspec": {
   "display_name": ".venv",
   "language": "python",
   "name": "python3"
  },
  "language_info": {
   "codemirror_mode": {
    "name": "ipython",
    "version": 3
   },
   "file_extension": ".py",
   "mimetype": "text/x-python",
   "name": "python",
   "nbconvert_exporter": "python",
   "pygments_lexer": "ipython3",
   "version": "3.10.7"
  },
  "orig_nbformat": 4
 },
 "nbformat": 4,
 "nbformat_minor": 2
}
