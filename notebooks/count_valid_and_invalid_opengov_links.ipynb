{
 "cells": [
  {
   "cell_type": "code",
   "execution_count": 13,
   "metadata": {},
   "outputs": [],
   "source": [
    "import requests\n",
    "import time\n",
    "from bs4 import BeautifulSoup\n",
    "import pprint\n",
    "import re"
   ]
  },
  {
   "cell_type": "code",
   "execution_count": 14,
   "metadata": {},
   "outputs": [],
   "source": [
    "def ends_with_digit_of_variable_length(s:str):\n",
    "    return bool(re.search(r'\\?p=\\d{1,4}$', s))"
   ]
  },
  {
   "cell_type": "code",
   "execution_count": 24,
   "metadata": {},
   "outputs": [
    {
     "name": "stdout",
     "output_type": "stream",
     "text": [
      "http://www.opengov.gr/home/category/consultations/page/54\n",
      "http://www.opengov.gr/home/category/consultations/page/53\n",
      "http://www.opengov.gr/home/category/consultations/page/52\n",
      "http://www.opengov.gr/home/category/consultations/page/51\n",
      "http://www.opengov.gr/home/category/consultations/page/50\n",
      "http://www.opengov.gr/home/category/consultations/page/49\n",
      "http://www.opengov.gr/home/category/consultations/page/48\n",
      "http://www.opengov.gr/home/category/consultations/page/47\n",
      "http://www.opengov.gr/home/category/consultations/page/46\n",
      "http://www.opengov.gr/home/category/consultations/page/45\n",
      "http://www.opengov.gr/home/category/consultations/page/44\n",
      "http://www.opengov.gr/home/category/consultations/page/43\n",
      "http://www.opengov.gr/home/category/consultations/page/42\n",
      "http://www.opengov.gr/home/category/consultations/page/41\n",
      "http://www.opengov.gr/home/category/consultations/page/40\n",
      "http://www.opengov.gr/home/category/consultations/page/39\n",
      "http://www.opengov.gr/home/category/consultations/page/38\n",
      "http://www.opengov.gr/home/category/consultations/page/37\n",
      "http://www.opengov.gr/home/category/consultations/page/36\n",
      "http://www.opengov.gr/home/category/consultations/page/35\n",
      "http://www.opengov.gr/home/category/consultations/page/34\n",
      "http://www.opengov.gr/home/category/consultations/page/33\n",
      "http://www.opengov.gr/home/category/consultations/page/32\n",
      "http://www.opengov.gr/home/category/consultations/page/31\n",
      "http://www.opengov.gr/home/category/consultations/page/30\n",
      "http://www.opengov.gr/home/category/consultations/page/29\n",
      "http://www.opengov.gr/home/category/consultations/page/28\n",
      "http://www.opengov.gr/home/category/consultations/page/27\n",
      "http://www.opengov.gr/home/category/consultations/page/26\n",
      "http://www.opengov.gr/home/category/consultations/page/25\n",
      "http://www.opengov.gr/home/category/consultations/page/24\n",
      "http://www.opengov.gr/home/category/consultations/page/23\n",
      "http://www.opengov.gr/home/category/consultations/page/22\n",
      "http://www.opengov.gr/home/category/consultations/page/21\n",
      "http://www.opengov.gr/home/category/consultations/page/20\n",
      "http://www.opengov.gr/home/category/consultations/page/19\n",
      "http://www.opengov.gr/home/category/consultations/page/18\n",
      "http://www.opengov.gr/home/category/consultations/page/17\n",
      "http://www.opengov.gr/home/category/consultations/page/16\n",
      "http://www.opengov.gr/home/category/consultations/page/15\n",
      "http://www.opengov.gr/home/category/consultations/page/14\n",
      "http://www.opengov.gr/home/category/consultations/page/13\n",
      "http://www.opengov.gr/home/category/consultations/page/12\n",
      "http://www.opengov.gr/home/category/consultations/page/11\n",
      "http://www.opengov.gr/home/category/consultations/page/10\n",
      "http://www.opengov.gr/home/category/consultations/page/9\n",
      "http://www.opengov.gr/home/category/consultations/page/8\n",
      "http://www.opengov.gr/home/category/consultations/page/7\n",
      "http://www.opengov.gr/home/category/consultations/page/6\n",
      "http://www.opengov.gr/home/category/consultations/page/5\n",
      "http://www.opengov.gr/home/category/consultations/page/4\n",
      "http://www.opengov.gr/home/category/consultations/page/3\n",
      "http://www.opengov.gr/home/category/consultations/page/2\n",
      "http://www.opengov.gr/home/category/consultations/page/1\n"
     ]
    }
   ],
   "source": [
    "URL = \"http://www.opengov.gr/home/category/consultations/page/\"\n",
    "\n",
    "valid_links_dict={}\n",
    "invalid_links_dict={}\n",
    "for _page in range(54,0,-1):\n",
    "    time.sleep(.5)\n",
    "    \n",
    "    print(f\"{URL}{_page}\")\n",
    "    request_url = f\"{URL}{_page}\"\n",
    "    ConsultationPageResponse:requests.Response\n",
    "    ConsultationPageResponse = requests.get(request_url)\n",
    "    \n",
    "    ConsultationResponseSoup = BeautifulSoup(ConsultationPageResponse.content, features=\"html.parser\")\n",
    "\n",
    "    legislationLinkTags = ConsultationResponseSoup.select(\"div.archive_list > ul > li a\")\n",
    "    valid_links = filter(lambda x: ends_with_digit_of_variable_length(x.get('href')),legislationLinkTags)\n",
    "    invalid_links = filter(lambda x: not ends_with_digit_of_variable_length(x.get('href')),legislationLinkTags)\n",
    "    # pprint.pprint(list(valid_links))\n",
    "    # print()\n",
    "    # pprint.pprint(list(invalid_links))\n",
    "    valid_links_dict.update({_page:len(list(valid_links))})\n",
    "    invalid_links_dict.update({_page:len(list(invalid_links))})\n",
    "\n",
    "    # pprint.pprint(valid_links_dict)\n",
    "    # pprint.pprint(invalid_links_dict)\n"
   ]
  },
  {
   "cell_type": "code",
   "execution_count": 27,
   "metadata": {},
   "outputs": [
    {
     "name": "stdout",
     "output_type": "stream",
     "text": [
      "Valid Links: 911\n",
      "Invalid Links: 163\n"
     ]
    }
   ],
   "source": [
    "sum_valid_links = sum(v for _,v in valid_links_dict.items())\n",
    "print(\"Valid Links:\",sum_valid_links)\n",
    "sum_invalid_links = sum(v for _,v in invalid_links_dict.items())\n",
    "print(\"Invalid Links:\",sum_invalid_links)"
   ]
  },
  {
   "cell_type": "code",
   "execution_count": 28,
   "metadata": {},
   "outputs": [
    {
     "data": {
      "text/plain": [
       "1074"
      ]
     },
     "execution_count": 28,
     "metadata": {},
     "output_type": "execute_result"
    }
   ],
   "source": [
    "sum_invalid_links+sum_valid_links"
   ]
  },
  {
   "cell_type": "code",
   "execution_count": 29,
   "metadata": {},
   "outputs": [],
   "source": [
    "import json\n",
    "\n",
    "with open('invalid_links.json','w') as f:\n",
    "    json.dump(invalid_links_dict,f)\n",
    "with open('valid_links.json','w') as f:\n",
    "    json.dump(valid_links_dict,f)\n"
   ]
  },
  {
   "cell_type": "code",
   "execution_count": null,
   "metadata": {},
   "outputs": [],
   "source": []
  }
 ],
 "metadata": {
  "kernelspec": {
   "display_name": ".venv",
   "language": "python",
   "name": "python3"
  },
  "language_info": {
   "codemirror_mode": {
    "name": "ipython",
    "version": 3
   },
   "file_extension": ".py",
   "mimetype": "text/x-python",
   "name": "python",
   "nbconvert_exporter": "python",
   "pygments_lexer": "ipython3",
   "version": "3.10.7"
  },
  "orig_nbformat": 4
 },
 "nbformat": 4,
 "nbformat_minor": 2
}
