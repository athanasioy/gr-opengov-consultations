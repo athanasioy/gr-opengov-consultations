{
 "cells": [
  {
   "cell_type": "code",
   "execution_count": 2,
   "metadata": {},
   "outputs": [],
   "source": [
    "import os\n",
    "import sys\n",
    "module_path = os.path.abspath(os.path.join('..'))\n",
    "if module_path not in sys.path:\n",
    "    sys.path.append(module_path)"
   ]
  },
  {
   "cell_type": "code",
   "execution_count": 3,
   "metadata": {},
   "outputs": [],
   "source": [
    "from DataObjects.article import Article\n",
    "from DataObjects.legislation import Legislation\n",
    "from DataObjects.public_consultation import PublicConsultation\n",
    "from DataObjects.base import Base\n",
    "\n",
    "import requests\n",
    "from sqlalchemy import create_engine, select, union_all, func, update\n",
    "from sqlalchemy.orm import Session, aliased\n",
    "\n",
    "from bs4 import BeautifulSoup\n",
    "import time"
   ]
  },
  {
   "cell_type": "code",
   "execution_count": 4,
   "metadata": {},
   "outputs": [
    {
     "data": {
      "text/plain": [
       "['../config.ini']"
      ]
     },
     "execution_count": 4,
     "metadata": {},
     "output_type": "execute_result"
    }
   ],
   "source": [
    "from configparser import ConfigParser\n",
    "\n",
    "config = ConfigParser()\n",
    "config.read(\"../config.ini\")"
   ]
  },
  {
   "cell_type": "code",
   "execution_count": 5,
   "metadata": {},
   "outputs": [],
   "source": [
    "engine = create_engine(config.get('QUERY_REFERENCE', 'db_file'))"
   ]
  },
  {
   "cell_type": "markdown",
   "metadata": {},
   "source": [
    "ORM Query Samples\n",
    "\n",
    "Simple where clause"
   ]
  },
  {
   "cell_type": "code",
   "execution_count": 4,
   "metadata": {},
   "outputs": [
    {
     "name": "stdout",
     "output_type": "stream",
     "text": [
      "[Legislation(id=1, title=Ολοκλήρωση της δημόσιας ηλεκτρονικής διαβούλευσης για το σχέδιο νόμου του Υπουργείου Εσωτερικών με τίτλο «ΑΡΣΗ ΠΕΡΙΟΡΙΣΜΩΝ ΓΙΑ ΤΗΝ ΕΓΓΡΑΦΗ ΣΤΟΥΣ ΕΙΔΙΚΟΥΣ ΕΚΛΟΓΙΚΟΥΣ ΚΑΤΑΛΟΓΟΥΣ ΕΚΛΟΓΕΩΝ ΕΞΩΤΕΡΙΚΟΥ»., ministry=Υπουργείο Εσωτερικών, date_posted=2023-07-10), Legislation(id=2, title=Ολοκλήρωση δημόσιας διαβούλευσης, ministry=Υπουργείο Ψηφιακής Διακυβέρνησης, date_posted=2023-04-10), Legislation(id=3, title=Ολοκλήρωση διαβούλευσης για το σχέδιο νόμου με τίτλο «Ρυθμίσεις σχετικά με τους Οργανισμούς Τοπικής Αυτοδιοίκησης α’ και β’ βαθμού – Ρυθμίσεις σχετικά με τον ειδικό εκλογικό χώρο για ΑμεΑ και το δικαίωμα του εκλέγεσθαι – Διατάξεις για την ευζωία των ζώων συντροφιάς – Διατάξεις για το ανθρώπινο δυναμικό του δημοσίου τομέα – Λοιπές ρυθμίσεις του Υπουργείου Εσωτερικών», ministry=Υπουργείο Εσωτερικών, date_posted=2023-03-30), Legislation(id=4, title=Δημόσια ηλεκτρονική διαβούλευση για το σχέδιο νόμου του Υπουργείου Υγείας με τον τίτλο «ΦΑΡΜΑΚΕΥΤΙΚΟΙ ΣΥΛΛΟΓΟΙ – ΠΑΝΕΛΛΗΝΙΟΣ ΦΑΡΜΑΚΕΥΤΙΚΟΣ ΣΥΛΛΟΓΟΣ – ΙΝΣΤΙΤΟΥΤΟ ΦΑΡΜΑΚΕΥΤΙΚΩΝ ΕΠΙΣΤΗΜΟΝΙΚΩΝ ΕΡΕΥΝΩΝ», ministry=Υπουργείο Υγείας, date_posted=2023-03-17), Legislation(id=5, title=Ολοκλήρωση δημόσιας διαβούλευσης για τη νομοθετική πρωτοβουλία του Υπουργείου Μετανάστευσης και Ασύλου, υπό τον τίτλο: «Κώδικας Μετανάστευσης», ministry=Μετανάστευσης και Ασύλου, date_posted=2023-03-07), Legislation(id=6, title=Ολοκλήρωση Δημόσιας Διαβούλευσης, ministry=Υπουργείο Εθνικής Άμυνας, date_posted=2023-03-01), Legislation(id=7, title=Δημόσια ηλεκτρονική διαβούλευση για το σχέδιο νόμου:»Διατάξεις για την ανάπτυξη, τις υποδομές και τη στήριξη της επιχειρηματικότητας και του τουρισμού», ministry=Υπουργείο Υποδομών και Μεταφορών, date_posted=2023-02-26), Legislation(id=8, title=Ολοκλήρωση διαδικασίας για το σχέδιο νόμου του Υπουργείου Υγείας με τίτλο «Εκσυγχρονισμός του δικαίου για τη δωρεά και μεταμόσχευση οργάνων», ministry=Υπουργείο Υγείας, date_posted=2023-02-24), Legislation(id=9, title=Δημόσια διαβούλευση για τη νομοθετική πρωτοβουλία του Υπουργείου Υποδομών και Μεταφορών υπό τον τίτλο: «Εκσυγχρονισμός των επιβατικών και εμπορευματικών μεταφορών – Διατάξεις για την εύρυθμη λειτουργία των εποπτευόμενων φορέων και άλλες διατάξεις της Γενικής Γραμματείας Μεταφορών», ministry=Υπουργείο Υποδομών και Μεταφορών, date_posted=2023-02-22)]\n"
     ]
    }
   ],
   "source": [
    "with Session(engine) as sess:\n",
    "    stmt = select(Legislation).where(Legislation.id <10)\n",
    "    legislations = sess.scalars(stmt)\n",
    "    l = legislations.all()\n",
    "print(l)\n"
   ]
  },
  {
   "cell_type": "markdown",
   "metadata": {},
   "source": [
    "Join Statement"
   ]
  },
  {
   "cell_type": "code",
   "execution_count": 5,
   "metadata": {},
   "outputs": [
    {
     "name": "stdout",
     "output_type": "stream",
     "text": [
      "1 1 Άρθρο 1 Άρση περιορισμών για την εγγραφή στους ειδικούς εκλογικούς καταλόγους εκλογέων εξωτερικού– Τροποποίηση άρθρων 2 και 4 ν. 4648/2019\n",
      "1 2 Άρθρο 2 Έναρξη ισχύος\n"
     ]
    }
   ],
   "source": [
    "with Session(engine) as sess:\n",
    "    # Join Statement\n",
    "    stmt = select(Legislation, Article).where(Legislation.id == 1).join(Article.legislation)\n",
    "    rows = sess.execute(stmt)\n",
    "    for row in rows:\n",
    "        print(f\"{row.Legislation.id} {row.Article.number} {row.Article.title}\")"
   ]
  },
  {
   "cell_type": "markdown",
   "metadata": {},
   "source": [
    "selecting invidivual attributes"
   ]
  },
  {
   "cell_type": "code",
   "execution_count": 6,
   "metadata": {},
   "outputs": [
    {
     "name": "stdout",
     "output_type": "stream",
     "text": [
      "2, Οδηγός Προσβασιμότητας για ιστοτόπους και εφαρμογές για φορητές συσκευές των οργανισμών της Ελληνικής Δημόσιας Διοίκησης\n"
     ]
    }
   ],
   "source": [
    "with Session(engine) as sess:\n",
    "    stmt = select(Legislation.id, Article.title).join(Article.legislation).where(Legislation.id == 2)\n",
    "    rows = sess.execute(stmt)\n",
    "    for row in rows:\n",
    "        print(f\"{row.id}, {row.title}\")"
   ]
  },
  {
   "cell_type": "markdown",
   "metadata": {},
   "source": [
    "Subqueries"
   ]
  },
  {
   "cell_type": "code",
   "execution_count": 7,
   "metadata": {},
   "outputs": [
    {
     "name": "stdout",
     "output_type": "stream",
     "text": [
      "Legislation(id=1, title=Ολοκλήρωση της δημόσιας ηλεκτρονικής διαβούλευσης για το σχέδιο νόμου του Υπουργείου Εσωτερικών με τίτλο «ΑΡΣΗ ΠΕΡΙΟΡΙΣΜΩΝ ΓΙΑ ΤΗΝ ΕΓΓΡΑΦΗ ΣΤΟΥΣ ΕΙΔΙΚΟΥΣ ΕΚΛΟΓΙΚΟΥΣ ΚΑΤΑΛΟΓΟΥΣ ΕΚΛΟΓΕΩΝ ΕΞΩΤΕΡΙΚΟΥ»., ministry=Υπουργείο Εσωτερικών, date_posted=2023-07-10)\n",
      "Legislation(id=2, title=Ολοκλήρωση δημόσιας διαβούλευσης, ministry=Υπουργείο Ψηφιακής Διακυβέρνησης, date_posted=2023-04-10)\n",
      "Legislation(id=3, title=Ολοκλήρωση διαβούλευσης για το σχέδιο νόμου με τίτλο «Ρυθμίσεις σχετικά με τους Οργανισμούς Τοπικής Αυτοδιοίκησης α’ και β’ βαθμού – Ρυθμίσεις σχετικά με τον ειδικό εκλογικό χώρο για ΑμεΑ και το δικαίωμα του εκλέγεσθαι – Διατάξεις για την ευζωία των ζώων συντροφιάς – Διατάξεις για το ανθρώπινο δυναμικό του δημοσίου τομέα – Λοιπές ρυθμίσεις του Υπουργείου Εσωτερικών», ministry=Υπουργείο Εσωτερικών, date_posted=2023-03-30)\n",
      "Legislation(id=4, title=Δημόσια ηλεκτρονική διαβούλευση για το σχέδιο νόμου του Υπουργείου Υγείας με τον τίτλο «ΦΑΡΜΑΚΕΥΤΙΚΟΙ ΣΥΛΛΟΓΟΙ – ΠΑΝΕΛΛΗΝΙΟΣ ΦΑΡΜΑΚΕΥΤΙΚΟΣ ΣΥΛΛΟΓΟΣ – ΙΝΣΤΙΤΟΥΤΟ ΦΑΡΜΑΚΕΥΤΙΚΩΝ ΕΠΙΣΤΗΜΟΝΙΚΩΝ ΕΡΕΥΝΩΝ», ministry=Υπουργείο Υγείας, date_posted=2023-03-17)\n",
      "Legislation(id=5, title=Ολοκλήρωση δημόσιας διαβούλευσης για τη νομοθετική πρωτοβουλία του Υπουργείου Μετανάστευσης και Ασύλου, υπό τον τίτλο: «Κώδικας Μετανάστευσης», ministry=Μετανάστευσης και Ασύλου, date_posted=2023-03-07)\n",
      "Legislation(id=6, title=Ολοκλήρωση Δημόσιας Διαβούλευσης, ministry=Υπουργείο Εθνικής Άμυνας, date_posted=2023-03-01)\n",
      "Legislation(id=7, title=Δημόσια ηλεκτρονική διαβούλευση για το σχέδιο νόμου:»Διατάξεις για την ανάπτυξη, τις υποδομές και τη στήριξη της επιχειρηματικότητας και του τουρισμού», ministry=Υπουργείο Υποδομών και Μεταφορών, date_posted=2023-02-26)\n",
      "Legislation(id=8, title=Ολοκλήρωση διαδικασίας για το σχέδιο νόμου του Υπουργείου Υγείας με τίτλο «Εκσυγχρονισμός του δικαίου για τη δωρεά και μεταμόσχευση οργάνων», ministry=Υπουργείο Υγείας, date_posted=2023-02-24)\n",
      "Legislation(id=9, title=Δημόσια διαβούλευση για τη νομοθετική πρωτοβουλία του Υπουργείου Υποδομών και Μεταφορών υπό τον τίτλο: «Εκσυγχρονισμός των επιβατικών και εμπορευματικών μεταφορών – Διατάξεις για την εύρυθμη λειτουργία των εποπτευόμενων φορέων και άλλες διατάξεις της Γενικής Γραμματείας Μεταφορών», ministry=Υπουργείο Υποδομών και Μεταφορών, date_posted=2023-02-22)\n"
     ]
    }
   ],
   "source": [
    "with Session(engine) as sess:\n",
    "    inner_stmt = select(Legislation).where(Legislation.id<10)\n",
    "    subq = inner_stmt.subquery()\n",
    "    aliased_legislation = aliased(Legislation, subq)\n",
    "    stmt = select(aliased_legislation)\n",
    "    rows = sess.execute(stmt)\n",
    "    for leg_obj in rows.scalars():\n",
    "        print(leg_obj)\n"
   ]
  },
  {
   "cell_type": "markdown",
   "metadata": {},
   "source": [
    "Union operator"
   ]
  },
  {
   "cell_type": "code",
   "execution_count": 8,
   "metadata": {},
   "outputs": [
    {
     "name": "stdout",
     "output_type": "stream",
     "text": [
      "Legislation(id=1, title=Ολοκλήρωση της δημόσιας ηλεκτρονικής διαβούλευσης για το σχέδιο νόμου του Υπουργείου Εσωτερικών με τίτλο «ΑΡΣΗ ΠΕΡΙΟΡΙΣΜΩΝ ΓΙΑ ΤΗΝ ΕΓΓΡΑΦΗ ΣΤΟΥΣ ΕΙΔΙΚΟΥΣ ΕΚΛΟΓΙΚΟΥΣ ΚΑΤΑΛΟΓΟΥΣ ΕΚΛΟΓΕΩΝ ΕΞΩΤΕΡΙΚΟΥ»., ministry=Υπουργείο Εσωτερικών, date_posted=2023-07-10)\n",
      "Legislation(id=2, title=Ολοκλήρωση δημόσιας διαβούλευσης, ministry=Υπουργείο Ψηφιακής Διακυβέρνησης, date_posted=2023-04-10)\n",
      "Legislation(id=3, title=Ολοκλήρωση διαβούλευσης για το σχέδιο νόμου με τίτλο «Ρυθμίσεις σχετικά με τους Οργανισμούς Τοπικής Αυτοδιοίκησης α’ και β’ βαθμού – Ρυθμίσεις σχετικά με τον ειδικό εκλογικό χώρο για ΑμεΑ και το δικαίωμα του εκλέγεσθαι – Διατάξεις για την ευζωία των ζώων συντροφιάς – Διατάξεις για το ανθρώπινο δυναμικό του δημοσίου τομέα – Λοιπές ρυθμίσεις του Υπουργείου Εσωτερικών», ministry=Υπουργείο Εσωτερικών, date_posted=2023-03-30)\n",
      "Legislation(id=4, title=Δημόσια ηλεκτρονική διαβούλευση για το σχέδιο νόμου του Υπουργείου Υγείας με τον τίτλο «ΦΑΡΜΑΚΕΥΤΙΚΟΙ ΣΥΛΛΟΓΟΙ – ΠΑΝΕΛΛΗΝΙΟΣ ΦΑΡΜΑΚΕΥΤΙΚΟΣ ΣΥΛΛΟΓΟΣ – ΙΝΣΤΙΤΟΥΤΟ ΦΑΡΜΑΚΕΥΤΙΚΩΝ ΕΠΙΣΤΗΜΟΝΙΚΩΝ ΕΡΕΥΝΩΝ», ministry=Υπουργείο Υγείας, date_posted=2023-03-17)\n",
      "Legislation(id=5, title=Ολοκλήρωση δημόσιας διαβούλευσης για τη νομοθετική πρωτοβουλία του Υπουργείου Μετανάστευσης και Ασύλου, υπό τον τίτλο: «Κώδικας Μετανάστευσης», ministry=Μετανάστευσης και Ασύλου, date_posted=2023-03-07)\n"
     ]
    }
   ],
   "source": [
    "with Session(engine) as sess:\n",
    "    u = union_all(\n",
    "        select(Legislation).where(Legislation.id <5),\n",
    "        select(Legislation).where(Legislation.id == 5)\n",
    "    )\n",
    "    stmt = select(Legislation).from_statement(u)\n",
    "    for leg_obj in sess.execute(stmt).scalars():\n",
    "        print(leg_obj)"
   ]
  },
  {
   "cell_type": "markdown",
   "metadata": {},
   "source": [
    "Specify Join"
   ]
  },
  {
   "cell_type": "code",
   "execution_count": 9,
   "metadata": {},
   "outputs": [
    {
     "name": "stdout",
     "output_type": "stream",
     "text": [
      "SELECT \"Legislation\".id, \"Legislation\".title, \"Legislation\".ministry, \"Legislation\".date_posted, \"Legislation\".parliament_url, \"Legislation\".legislation_pdf_url, \"Legislation\".scrap_url, \"Legislation\".final_legislation_id \n",
      "FROM \"Legislation\" JOIN \"Article\" ON \"Legislation\".id = \"Article\".legislation_id\n"
     ]
    }
   ],
   "source": [
    "with Session(engine) as sess:\n",
    "    stmt = select(Legislation).join(Article, Legislation.id == Article.legislation_id)\n",
    "    print(stmt)"
   ]
  },
  {
   "cell_type": "markdown",
   "metadata": {},
   "source": [
    "Custom ON criteria"
   ]
  },
  {
   "cell_type": "code",
   "execution_count": 10,
   "metadata": {},
   "outputs": [
    {
     "name": "stdout",
     "output_type": "stream",
     "text": [
      "SELECT \"Legislation\".id, \"Legislation\".title, \"Legislation\".ministry, \"Legislation\".date_posted, \"Legislation\".parliament_url, \"Legislation\".legislation_pdf_url, \"Legislation\".scrap_url, \"Legislation\".final_legislation_id \n",
      "FROM \"Article\" JOIN \"Legislation\" ON \"Legislation\".id = \"Article\".legislation_id AND \"Article\".comments_allowed = true\n"
     ]
    }
   ],
   "source": [
    "with Session(engine) as sess:\n",
    "    stmt = select(Legislation).join(Article.legislation.and_(Article.comments_allowed==True))\n",
    "    print(stmt)"
   ]
  },
  {
   "cell_type": "markdown",
   "metadata": {},
   "source": [
    "Join to Subquery"
   ]
  },
  {
   "cell_type": "code",
   "execution_count": 11,
   "metadata": {},
   "outputs": [
    {
     "name": "stdout",
     "output_type": "stream",
     "text": [
      "SELECT \"Legislation\".id, \"Legislation\".title, \"Legislation\".ministry, \"Legislation\".date_posted, \"Legislation\".parliament_url, \"Legislation\".legislation_pdf_url, \"Legislation\".scrap_url, \"Legislation\".final_legislation_id \n",
      "FROM \"Legislation\" JOIN (SELECT \"Article\".id AS id, \"Article\".number AS number, \"Article\".title AS title, \"Article\".text AS text, \"Article\".legislation_id AS legislation_id, \"Article\".comments_allowed AS comments_allowed, \"Article\".article_url AS article_url \n",
      "FROM \"Article\" \n",
      "WHERE \"Article\".comments_allowed = false) AS anon_1 ON anon_1.legislation_id = \"Legislation\".id\n",
      "Article(id=5, number=2, title=Άρθρο 2 Αντικείμενο, text=γή ρυθμίσεων που αφορούν στη λειτουργία των Ο.Τ.Α. α΄ και β΄ βαθµού, όπως ενδεικτικά ο τρόπος καταβολής τέλους χρήσεως κοινόχρηστου χώρου και καθορισμού προδιαγραφών και απαιτήσεων αποκατάστασης τομών σε κοινόχρηστους χώρους, οι χρηματικές επιχορηγήσεις σε αθλητικά σωματεία, αθλητές και αθλητικές ομάδες των ορεινών και νησιωτικών δήμων της χώρας, η τροποποίηση του άρθρου 166Α του ν. 3463/2006 (Α΄114) όσον αφορά στη βεβαίωση και είσπραξη οφειλών προς τους δήμους σε περίπτωση μη υποβολής δήλωσης αναγκαίων στοιχείων ή υποβολής δήλωσης με ανακριβή ή ελλιπή στοιχεία, η πρόβλεψη της ισχύος των προεδρικών διαταγμάτων που προβλέπουν τη διαίρεση των οικισμών που αποτελούν έδρες δήμων σε δημοτικές κοινότητες, όταν αυτοί υπερβαίνουν τους εκατό χιλιάδες (100.000) κατοίκους, η εισαγωγή του ανώτατου ορίου των συμβολαιογραφικών δικαιωμάτων που καταβάλλουν οι περιφέρειες κατά τη συνομολόγηση δανείων που συνάπτονται με συμβολαιογραφικές πράξεις,β) ο προσδιορισμός της λειτουργίας και των χαρακτηριστικών ειδικού εκλογικού χώρου για άτομα με αναπηρία στα εκλογικά τμήματα κατά τις βουλευτικές εκλογές,γ) η τροποποίηση επιμέρους διατάξεων του ν. 4804/2021 (Α΄ 90) σχετικά με τα κωλύματα εκλογιμότητας και τα ασυμβίβαστα, που ισχύουν, κατά τη διενέργεια των εκλογών για την ανάδειξη των δημοτικών και περιφερειακών αρχών, καιδ) η ρύθμιση ζητημάτων που αφορούν στη μεταφορά των σκύλων θεραπείας, καθώς και την πρόσβαση αυτών σε οργανωμένες παραλίες, τη μετακίνηση των ασυνόδευτων ζώων συντροφιάς με πλοίο, τη συμμετοχή σκύλων σε αθλητικούς αγώνες και αθλήματα που ορίζονται από την Παγκόσμια Ομοσπονδία Canicross και Bikejoring πλέον της Διεθνούς Κυνολογικής Ομοσπονδίας, καθώς και τον προσδιορισμό του πιστοποιητικού που προσκομίζει ο ιδιοκτήτης σκύλου ή γάτας μέχρι τη θέση σε λειτουργία του Εθνικού Μητρώου Ζώων Συντροφιάς (ΕΜΖΣ) που συμμετέχει σε εκθέσεις ή εκδηλώσεις., legislation_id=3)\n",
      "Article(id=7, number=4, title=Άρθρο 4 Διεξαγωγή υπαίθριων αθλητικών εκδηλώσεων και διοργανώσεων, text=ηλώσεις δρόμου και ποδηλασίας, οι οποίες αδειοδοτούνται σύμφωνα με το άρθρο 56Δ του ν. 2725/1999 (Α’ 121) περί άδειας διεξαγωγής αθλητικών συναντήσεων και το άρθρο 49 του Κώδικα Οδικής Κυκλοφορίας (ν. 2696/1999, Α’ 57) περί διεξαγωγής αγώνων στις οδούς, και για τις οποίες έχει χορηγηθεί ήδη μια (1) άδεια από τις αρμόδιες αρχές των ανωτέρω άρθρων εντός του ίδιου μήνα, διεξάγονται κατόπιν αδείας του δήμου εντός των διοικητικών ορίων του οποίου πρόκειται να λάβουν χώρα. Η άδεια του δήμου μπορεί να χορηγηθεί για τη διεξαγωγή των αθλητικών διοργανώσεων και εκδηλώσεων δρόμου και ποδηλασίας και σε μέρος μόνον του οδοστρώματος ή άλλου δημόσιου ανοικτού μη περιτοιχισμένου χώρου, εφόσον η οικεία αστυνομική αρχή πιστοποιεί την ασφαλή διεξαγωγή τους. Για τη χορήγηση της άδειας από τον δήμο λαμβάνονται υπόψη:αα) ο αριθμός των προσώπων που πρόκειται να λάβει μέρος,αβ) η ημέρα και η ώρα διεξαγωγής που προτείνει ο διοργανωτής σύμφωνα με την παρ. 3,αγ) η εξαιτίας των αθλητικών διοργανώσεων και εκδηλώσεων δρόμου και ποδηλασίας σοβαρή παρεμπόδιση της κίνησης των πολιτών και γενικά η διασάλευση της ομαλής κοινωνικής και οικονομικής ζωής του δήμου.β) Οι αρμόδιες αρχές των άρθρων 56Δ του ν. 2725/1999 και 49 του Κώδικα Οδικής Κυκλοφορίας κοινοποιούν στους δήμους της παρ. 4 τις αποφάσεις για τη διεξαγωγή αθλητικών διοργανώσεων και εκδηλώσεων δρόμου και ποδηλασίας, που χορηγούν.γ) Εφόσον συντρέχουν οι προϋποθέσεις του πρώτου εδαφίου της περ. α’, ο δήμος ενημερώνει μέσω της ιστοσελίδας του, ότι για τη χορήγηση νέας άδειας για τη διεξαγωγή των αθλητικών διοργανώσεων και εκδηλώσεων δρόμου και ποδηλασίας εντός του ίδιου μήνα εφαρμόζεται η διαδικασία του παρόντος.2. Ο διοργανωτής οφείλει να γνωστοποιήσει στον οικείο δήμο την πρόθεσή του να καλέσει το ευρύ κοινό ή ορισμένες κατηγορίες προσώπων ή αριθμό συγκεκριμένων ατόμων να συμμετάσχουν σε δημόσια υπαίθρια αθλητική διοργάνωση ή εκδήλωση.3. Η γνωστοποίηση γίνεται εγγράφως ή ηλεκτρονικά μέσω της διαδικτυακής πλατφόρμας του οικείου δήμου και υποβάλλεται εγκαίρως, τουλάχιστον είκοσι (20) ημέρες πριν από την πραγματοποίηση της δημόσιας υπαίθριας αθλητικής διοργάνωσης. Η γνωστοποίηση περιλαμβάνει οπωσδήποτε τα στοιχεία ταυτότητας και επικοινωνίας του οργανωτή, τον ακριβή τόπο, τον χρόνο έναρξης και τον εκτιμώμενο χρόνο λήξης, τον σκοπό, καθώς και το προτεινόμενο δρομολόγιο της αθλητικής διοργάνωσης. Μετά από την υποβολή της γνωστοποίησης και εφόσον πληρούνται οι προϋποθέσεις κατά τα ανωτέρω οριζόμενα στην παρ. 1, εκδίδεται και η σχετική άδεια με απόφαση του αρμοδίου δημάρχου.4. Το παρόν εφαρμόζεται σε δήμους της περ. α’ της παρ. 1 του άρθρου 2Α του ν. 3852/2010 (Α’ 87), οι οποίοι συγκροτούνται από δημοτικές κοινότητες της παρ. 4 του άρθρου 2 του ιδίου νόμου, οι οποίες υπερβαίνουν τις πέντε (5)., legislation_id=3)\n",
      "Article(id=11, number=8, title=Άρθρο 8 Απαλλαγή από ΕΝΦΙΑ – Τροποποίηση παρ. 1 άρθρου 3 ν. 4223/2013, text=θρου 3 του ν. 4223/2013 (Α΄287) περί απαλλαγής από τον Ενιαίο Φόρο Ιδιοκτησίας Ακινήτων (ΕΝ.Φ.Ι.Α.) προστίθεται η φράση «ή σε περίπτωση αθλητικών εγκαταστάσεων για τις οποίες δεν εισπράττεται μίσθωμα για τη χρήση τους» και η περ. β΄ διαμορφώνεται ως εξής:«β. Σε νομικά πρόσωπα δημοσίου δικαίου (Ν.Π.Δ.Δ.), νομικά πρόσωπα ιδιωτικού δικαίου (Ν.Π.Ι.Δ), που εντάσσονται στους φορείς της Γενικής Κυβέρνησης, καθώς και σε Ο.Τ.Α. και ιδιοχρησιμοποιούνται ή παραχωρούνται δωρεάν στο Δημόσιο ή χρησιμοποιούνται αποκλειστικά για τις ανάγκες της δημόσιας υγείας ή σε περίπτωση αθλητικών εγκαταστάσεων για τις οποίες δεν εισπράττεται μίσθωμα για τη χρήση τους. Οι ανώνυμες εταιρείες της Γενικής Κυβέρνησης, με την επιφύλαξη της προηγούμενης περίπτωσης, δεν απαλλάσσονται από τον ΕΝ.Φ.Ι.Α.».2. Ποσά που έχουν καταλογισθεί σύμφωνα με την παρ. 1 μέχρι την έναρξη ισχύος του παρόντος και δεν έχουν καταβληθεί, δεν αναζητούνται και παραγράφονται., legislation_id=3)\n",
      "Article(id=12, number=9, title=Άρθρο 9 Ρυθμίσεις για τις δημοτικές κοινότητες που συνιστούν εκλογικές περιφέρειες για την ανάδειξη των δημοτικών συμβούλων – Τροποποίηση παρ. 4 άρθρου 2 ν. 3852/2010, text=σχετικά με τις δημοτικές κοινότητες, όπως μετονομάστηκαν τα δημοτικά διαμερίσματα, στα οποία διαιρούνται οι οικισμοί – έδρες δήμων με πληθυσμό άνω των εκατό χιλιάδων (100.000) κατοίκων και συνιστούν εκλογικές περιφέρειες σύμφωνα με την περ. β) του άρθρου 12 του ν. 4804/2021 (Α΄90), προστίθεται δεύτερο εδάφιο και η παρ. 4 διαμορφώνεται ως εξής:«4. Τα δημοτικά διαμερίσματα στα οποία διαιρούνται οι οικισμοί – έδρες δήμων με πληθυσμό άνω των εκατό χιλιάδων (100.000) κατοίκων μετονομάζονται σε δημοτικές κοινότητες. Οι δημοτικές κοινότητες της παρούσας εξακολουθούν να υφίστανται αν έχει εκδοθεί προεδρικό διάταγμα διαίρεσης δημοτικών διαμερισμάτων ανεξαρτήτως μεταγενεστέρων πληθυσμιακών αλλαγών.»., legislation_id=3)\n",
      "Article(id=13, number=10, title=Άρθρο 10 Συμβολαιογραφικά δικαιώματα στις συμβάσεις συνομολόγησης δανείων εκ μέρους των Περιφερειών – Τροποποίηση παρ. 4 άρθρου 265 ν. 3852/2010, text= 3852/2010 (Α’ 87) προστίθεται η φράση «και δεν μπορούν πάντως να υπερβούν το ποσό των διακοσίων (200) ευρώ» και η παρ. 4 διαμορφώνεται ως εξής:«4. Τα συμβολαιογραφικά δικαιώματα στις συμβάσεις συνομολόγησης δανείων εκ μέρους των περιφερειών μειώνονται στο ένα δεύτερο (1/2) και δεν μπορούν πάντως να υπερβούν το ποσό των διακοσίων (200) ευρώ. Τα κάθε είδους δικαιώματα εμμίσθων ή αμίσθων υποθηκοφυλάκων, για την εγγραφή υποθήκης, προσημειώσεως ή κατασχέσεως σε βάρος περιφέρειας, μειώνονται επίσης στο ένα δεύτερο (1/2)»., legislation_id=3)\n",
      "Article(id=16, number=13, title=ΚΕΦΑΛΑΙΟ Δ’ ΔΙΑΤΑΞΕΙΣ ΓΙΑ ΤΗΝ ΕΥΖΩΙΑ ΤΩΝ ΖΩΩΝ ΣΥΝΤΡΟΦΙΑΣ  Άρθρο 13 Μεταφορά σκύλων θεραπείας – Τροποποίηση παρ. 4 άρθρου 17 ν. 4830/2021, text=. 4830/2021 (Α΄169) μετά από τις λέξεις «οι σκύλοι βοηθείας» προστίθενται οι λέξεις «και θεραπείας» και η παρ. 4 διαμορφώνεται ως εξής:«4. Επιτρέπεται η μεταφορά μικρών ζώων συντροφιάς σε όλα τα οδικά, σιδηροδρομικά και σταθερής τροχιάς μέσα μαζικής μεταφοράς, καθώς και στα ταξί και στα επιβατηγά πλοία, εφόσον τα ζώα είναι τοποθετημένα σε ασφαλές κλουβί μεταφοράς και συνοδεύονται από τον ιδιοκτήτη ή τον κάτοχο τους. Οι σκύλοι βοήθειας και θεραπείας, εφόσον φέρουν λουρί χειρισμού, μπορούν να μεταφέρονται στα μέσα μεταφοράς, χωρίς κλουβί μεταφοράς και χωρίς φίμωτρο, ανεξάρτητα από το μέγεθός τους.»., legislation_id=3)\n",
      "Article(id=17, number=14, title=Άρθρο 14 Μετακίνηση ασυνόδευτου ζώου συντροφιάς με πλοίο – Προσθήκη παρ. 10 στο άρθρο 18 ν. 4830/2021, text=οράς ζώων συντροφιάς με επιβατηγά πλοία, προστίθεται παρ. 10 ως εξής:«10. Επιτρέπεται η μετακίνηση ασυνόδευτου ζώου συντροφιάς με πλοίο, όταν επιβάλλεται η μετακίνηση ή η μεταφορά του από και προς κτηνιατρείο, κτηνιατρική κλινική ή καταφύγιο εντός της επικράτειας, υπό τις προϋποθέσεις, που τίθενται στις παρ. 1 έως 9. », legislation_id=3)\n",
      "Article(id=18, number=15, title=Άρθρο 15 Πρόσβαση σκύλων θεραπείας στις οργανωμένες παραλίες – Τροποποίηση παρ. 2 άρθρου 19 ν. 4830/2021, text=4830/2021 (Α΄169) μετά από τις λέξεις «για σκύλους βοηθείας» προστίθενται οι λέξεις «και θεραπείας» και η παρ. 2 διαμορφώνεται ως εξής:«2. Στις οργανωμένες παραλίες, κατά την έννοια της παρ. 1 του άρθρου 1 του π.δ. 71/2020 (Α’ 166), η πρόσβαση σκύλων επιτρέπεται μόνο εάν πρόκειται για σκύλους βοήθειας και θεραπείας ή εφόσον υπάρχει σχετική ευδιάκριτη ένδειξη, που έχει αναρτηθεί από τον νόμιμο υπεύθυνο εκμετάλλευσης της παραλίας. Εκτός θάλασσας είναι υποχρεωτική πάντοτε η χρήση λουριού.»., legislation_id=3)\n",
      "Article(id=20, number=17, title=ΚΕΦΑΛΑΙΟ Ε’ ΜΕΤΑΒΑΤΙΚΕΣ ΔΙΑΤΑΞΕΙΣ  Άρθρο 17 Μεταβατικές διατάξεις, text=αρ. 2 του άρθρου 10 του ν. 4804/2021 (Α’ 90), περί κωλυμάτων εκλογιμότητας και ασυμβίβαστων κατά τη διεξαγωγή των εκλογών των δημοτικών αρχών, που καταργείται με το άρθρο 12 του παρόντος, και έχουν υποβάλει την παραίτησή τους έως την 31η.12.2022, προκειμένου να θέσουν υποψηφιότητα στις εκλογές των δημοτικών αρχών της παρ. 5 του άρθρου 5 του ν. 4804/2021, δύνανται, κατά την κρίση του οικείου φορέα, να επανέλθουν στη θέση τους, κατόπιν αίτησής τους εντός αποκλειστικής προθεσμίας δέκα (10) ημερών από την έναρξη ισχύος του παρόντος.2. Πρόσωπα, τα οποία υπάγονται στην περ. δ) της παρ. 2 του άρθρου 48 του ν. 4804/2021 περί κωλυμάτων εκλογιμότητας και ασυμβίβαστων κατά τη διεξαγωγή των εκλογών των περιφερειακών αρχών, που καταργείται με το άρθρο 12 του παρόντος, και έχουν υποβάλει την παραίτησή τους έως την 31η.12.2022, προκειμένου να θέσουν υποψηφιότητα στις εκλογές των περιφερειακών αρχών της παρ. 6 του άρθρου 43 του ν. 4804/2021, δύνανται, κατά την κρίση του οικείου φορέα, να επανέλθουν στη θέση τους, κατόπιν αίτησής τους εντός αποκλειστικής προθεσμίας δέκα (10) ημερών από την έναρξη ισχύος του παρόντος., legislation_id=3)\n",
      "Article(id=25, number=22, title=Άρθρο 22 Έλεγχος ασθενούντων υπαλλήλων κατ’ οίκον – Τροποποίηση παρ. 8 άρθρου 60 ν. 1943/1991, text= 1943/1991 (Α’ 50) αντικαθίστανται και η παρ. 8 διαμορφώνεται ως εξής:«8. Σε κάθε ν.π.δ.δ. που έχει προσωπικό άνω των χιλίων ατόμων, εφ` όσον δεν υπάρχει καμία θέση ελεγκτή γιατρού ειδικότητας παθολόγου ή γενικής ιατρικής, συνιστάται αυτοδικαίως με τον παρόντα νόμο μία θέση ελεγκτή γιατρού, με θητεία τριών ετών, που μπορεί να ανανεώνεται, για την άσκηση ελέγχου κατά τις παραγράφους 1 και 2 του παρόντος. Για τη σύσταση της θέσεως εκδίδεται σχετική διαπιστωτική πράξη, που δημοσιεύεται στην Εφημερίδα της Κυβερνήσεως.Προκειμένου για ν.π.δ.δ., τα οποία έχουν προσωπικό κάτω των χιλίων ατόμων, ισχύουν τα εξής:α. Σε όσα ν.π.δ.δ. υπηρετεί υπηρεσιακός ελεγκτής γιατρός ειδικότητας παθολόγου ή γενικής ιατρικής, αυτός ασκεί και τον έλεγχο, που προβλέπεται στην παράγραφο 1 του παρόντος.β. Σε όσα ν.π.δ.δ., που εδρεύουν στην Περιφέρεια Αττικής, δεν υπηρετούν τέτοιοι γιατροί, ο έλεγχος των κατ’ οίκον ασθενούντων υπαλλήλων τους, που υπηρετούν στην Περιφέρεια Αττικής, ασκείται από τον ελεγκτή γιατρό του Υπουργείου που τα εποπτεύει. Εφόσον δεν υπηρετεί ελεγκτής ιατρός στο εποπτεύον Υπουργείο, ο έλεγχος μπορεί να ασκείται από ελεγκτή γιατρό που ανήκει οργανικά στην Υγειονομική Περιφέρεια Αττικής ή ανήκει οργανικά σε φορέα παροχής υπηρεσιών υγείας της Υγειονομικής Περιφέρειας Αττικής, ο οποίος ορίζεται με απόφαση του οικείου Διοικητή της Υγειονομικής Περιφέρειας. Η εντολή για έλεγχο δίδεται από τον οικείο Διοικητή κατόπιν αιτήματος του φορέα.γ. Σε όσες δημόσιες υπηρεσίες ή ν.π.δ.δ., που εδρεύουν εκτός της Περιφέρειας Αττικής ή έχουν υπηρεσίες εκτός της Περιφέρειας Αττικής, δεν υπηρετεί ελεγκτής γιατρός, ο έλεγχος των κατ’ οίκον ασθενούντων υπαλλήλων τους ασκείται από τον ελεγκτή γιατρό της οικείας Περιφέρειας ή από ελεγκτή γιατρό που ανήκει οργανικά στην οικεία Υγειονομική Περιφέρεια ή υπηρετεί σε φορέα παροχής υπηρεσιών υγείας που υπάγεται στην οικεία Υγειονομική Περιφέρεια. Η εντολή για έλεγχο δίνεται από τον οικείο Περιφερειάρχη ή από τον Διοικητή της οικείας Υγειονομικής Περιφέρειας στον ορισθέντα με απόφαση αντιστοίχως ελεγκτή γιατρό κατόπιν αιτήματος του οικείου φορέα.»., legislation_id=3)\n",
      "Article(id=28, number=25, title=ΜΕΡΟΣ Γ’ ΛΟΙΠΕΣ ΡΥΘΜΙΣΕΙΣ ΥΠΟΥΡΓΕΙΟΥ ΕΣΩΤΕΡΙΚΩΝ  Άρθρο 25 Ληξιαρχική πράξη για την αποτέφρωση νεκρών – Τροποποίηση άρθρου 49 ν. 4277/2014, text= οι εξής αλλαγές: α) στο πρώτο εδάφιο της παρ. 1 οι λέξεις «εξήντα ωρών» αντικαθίστανται από τις λέξεις «τριών (3) εργάσιμων ημερών», β) προστίθεται παρ. 4 και το άρθρο 49 διαμορφώνεται ως εξής:«Άρθρο 49Ληξιαρχική πράξη για την αποτέφρωση νεκρών1. Για την αποτέφρωση νεκρών συντάσσεται ληξιαρχική πράξη εντός τριών (3) εργάσιμων ημερών από το θάνατο και αφού προηγουμένως προσκομισθούν, πέραν των απαιτουμένων κατά το άρθρο 32 του ν. 344/1976 «Περί Ληξιαρχικών Πράξεων» (Α΄ 143) δικαιολογητικών και τα εξής:(α) Έγγραφη δήλωση ή σημείωμα του θανόντος ότι επιθυμούσε την αποτέφρωση της σωρού του. Αν ο θανών δεν κατέλιπε τέτοια δήλωση ή σημείωμα, έγγραφη δήλωση του/της συζύγου αυτού ή του/της εν ζωή συντρόφου του θανόντος με τον/την οποίο/α ο τελευταίος είχε συνάψει σύμφωνο συμβίωσης κατά τα προβλεπόμενα από το άρθρο 1 του ν. 3719/2008 «Μεταρρυθμίσεις για την οικογένεια, το παιδί και άλλες διατάξεις» (Α΄ 240) ή, τέλος, των συγγενών πρώτου ή δευτέρου βαθμού του θανόντος, με βεβαίωση του γνησίου της υπογραφής τους.(β) Έγγραφη πιστοποίηση ιατροδικαστή που βεβαιώνει ότι η αιτία θανάτου δεν χρήζει περαιτέρω ιατροδικαστικής διερευνήσεως και ότι αφαιρέθηκαν από το σώμα του νεκρού τα τυχόν ακατάλληλα για αποτέφρωση ιατροτεχνικά μέρη.Έγγραφη πιστοποίηση ιατροδικαστή που βεβαιώνει ότι, βάσει διενεργηθείσας νεκροψίας, πρόκειται για θάνατο που οφείλεται σε παθολογικά αίτια και όχι για βίαιο θάνατο και ότι αφαιρέθηκαν από το σώμα του νεκρού τα τυχόν ακατάλληλα για αποτέφρωση ιατροτεχνικά μέρη. Εάν ο θάνατος είναι βίαιος, έχει προηγηθεί νεκροτομή, κατόπιν σχετικής εντολής.2. Στη ληξιαρχική πράξη της παραγράφου 1 σημειώνεται από τον ληξίαρχο και ο τόπος αποτέφρωσης. Κατά τα λοιπά έχουν εφαρμογή οι διατάξεις των άρθρων 32, 33, 34, 36, 38 και 39 του ν. 344/1976. Με απόφαση του Υπουργού Εσωτερικών ρυθμίζονται όλες οι λεπτομέρειες σχετικά με την διαμόρφωση του εντύπου της ληξιαρχικής πράξης θανάτου.3. Για την αποτέφρωση νεκρών δεν απαιτείται η έκδοση άδειας αλλά αρκεί η προσκόμιση της ληξιαρχικής πράξης θανάτου στο ΚΑΝ όπου θα αποτεφρωθεί ο νεκρός.4. Για την αποτέφρωση νεκρών, για τους οποίους έχει εκδοθεί ληξιαρχική πράξη θανάτου ή άλλη αντίστοιχη πράξη αλλοδαπής αρχής, δεν απαιτείται η έκδοση άδειας, αλλά αρκεί η προσκόμιση στο ΚΑΝ, όπου πρόκειται να αποτεφρωθεί η σορός: α) της ληξιαρχικής πράξης θανάτου ή άλλης αντίστοιχης πράξης αλλοδαπής αρχής, νομίμως μεταφρασμένης στην ελληνική γλώσσα, στην οποία σημειώνεται ο τόπος αποτέφρωσης, β) της έγγραφης πιστοποίησης ιατροδικαστή της περ. (β) της παρ. 1 ή άλλης αντίστοιχης πράξης αλλοδαπής αρχής, νομίμως μεταφρασμένης στην ελληνική γλώσσα και γ) της πράξης της αρμόδιας ελληνικής αρχής περί νόμιμης εισαγωγής της σορού στην Ελλάδα, όταν συντρέχει περίπτωση τέτοιας εισαγωγής.»., legislation_id=3)\n",
      "Article(id=29, number=26, title=Άρθρο 26 Μεταφορά τέφρας ανθρώπου ή ζώου συντροφιάς – Προσθήκη παρ. 8 στο άρθρο 49α ν. 4277/2014, text=είρισης της τέφρας προστίθεται παρ. 8 ως εξής:«8. Επιτρέπεται η μεταφορά τέφρας ανθρώπου ή ζώου συντροφιάς από εταιρείες παροχής υπηρεσιών μεταφοράς, εφόσον αυτή βρίσκεται εντός σφραγισμένης τεφροδόχου και συνοδεύεται από πιστοποιητικό αποτέφρωσης. Το πρώτο εδάφιο ισχύει και για τις περιπτώσεις μεταφοράς προς τον σκοπό εξαγωγής της τέφρας στην αλλοδαπή.»., legislation_id=3)\n",
      "Article(id=30, number=27, title=ΜΕΡΟΣ Δ’ ΕΝΑΡΞΗ ΙΣΧΥΟΣ  Άρθρο 27 Έναρξη ισχύος, text=υ στην Εφημερίδα της Κυβερνήσεως, εκτός αν ορίζεται διαφορετικά στις επιµέρους διατάξεις., legislation_id=3)\n"
     ]
    }
   ],
   "source": [
    "with Session(engine) as sess:\n",
    "    subq = select(Article).where(Article.comments_allowed==False).subquery()\n",
    "    stmt = select(Legislation).join(subq, subq.c.legislation_id == Legislation.id)\n",
    "    print(stmt)\n",
    "    # In order to return subquery results, we need to alias the subq\n",
    "    articles_with_comments = aliased(Article,subq, name=\"articles\")\n",
    "    stmt = select(Legislation,articles_with_comments).join(articles_with_comments).where(Legislation.id==3)\n",
    "    for row in sess.execute(stmt):\n",
    "        print(f\"{row.articles}\")"
   ]
  },
  {
   "cell_type": "markdown",
   "metadata": {},
   "source": [
    "Any (for one-to-many relationships)"
   ]
  },
  {
   "cell_type": "code",
   "execution_count": 12,
   "metadata": {},
   "outputs": [
    {
     "name": "stdout",
     "output_type": "stream",
     "text": [
      "SELECT \"Legislation\".id, \"Legislation\".title, \"Legislation\".ministry, \"Legislation\".date_posted, \"Legislation\".parliament_url, \"Legislation\".legislation_pdf_url, \"Legislation\".scrap_url, \"Legislation\".final_legislation_id \n",
      "FROM \"Legislation\" \n",
      "WHERE EXISTS (SELECT 1 \n",
      "FROM \"Article\" \n",
      "WHERE \"Legislation\".id = \"Article\".legislation_id AND \"Article\".number = :number_1)\n",
      "SELECT \"Legislation\".id, \"Legislation\".title, \"Legislation\".ministry, \"Legislation\".date_posted, \"Legislation\".parliament_url, \"Legislation\".legislation_pdf_url, \"Legislation\".scrap_url, \"Legislation\".final_legislation_id \n",
      "FROM \"Legislation\" \n",
      "WHERE NOT (EXISTS (SELECT 1 \n",
      "FROM \"Article\" \n",
      "WHERE \"Legislation\".id = \"Article\".legislation_id AND \"Article\".comments_allowed = :comments_allowed_1))\n"
     ]
    }
   ],
   "source": [
    "with Session(engine) as sess:\n",
    "    stmt = select(Legislation).where(Legislation.articles.any(Article.number==9999))\n",
    "    print(stmt)\n",
    "    # Negation\n",
    "    stmt = select(Legislation).where(~Legislation.articles.any(Article.comments_allowed==0))\n",
    "    print(stmt)"
   ]
  },
  {
   "cell_type": "markdown",
   "metadata": {},
   "source": [
    "Has (for many-to-one relationships)"
   ]
  },
  {
   "cell_type": "code",
   "execution_count": 13,
   "metadata": {},
   "outputs": [
    {
     "name": "stdout",
     "output_type": "stream",
     "text": [
      "SELECT \"PublicConsultation\".id, \"PublicConsultation\".reporter, \"PublicConsultation\".text, \"PublicConsultation\".date_reported, \"PublicConsultation\".url, \"PublicConsultation\".article_id \n",
      "FROM \"PublicConsultation\" \n",
      "WHERE EXISTS (SELECT 1 \n",
      "FROM \"Article\" \n",
      "WHERE \"Article\".id = \"PublicConsultation\".article_id AND \"Article\".number = :number_1)\n"
     ]
    }
   ],
   "source": [
    "with Session(engine) as sess:\n",
    "    stmt = select(PublicConsultation).where(PublicConsultation.articles.has(Article.number==999))\n",
    "    print(stmt)"
   ]
  },
  {
   "cell_type": "markdown",
   "metadata": {},
   "source": [
    "Order By"
   ]
  },
  {
   "cell_type": "code",
   "execution_count": 14,
   "metadata": {},
   "outputs": [
    {
     "name": "stdout",
     "output_type": "stream",
     "text": [
      "SELECT \"Article\".id, \"Article\".number, \"Article\".title, \"Article\".text, \"Article\".legislation_id, \"Article\".comments_allowed, \"Article\".article_url \n",
      "FROM \"Article\" ORDER BY \"Article\".id DESC\n"
     ]
    }
   ],
   "source": [
    "with Session(engine) as session:\n",
    "    stmt = select(Article).order_by(Article.id.desc()) # Article.id.asc() for ascending\n",
    "    print(stmt)"
   ]
  },
  {
   "cell_type": "markdown",
   "metadata": {},
   "source": [
    "Group by / Having\n"
   ]
  },
  {
   "cell_type": "code",
   "execution_count": 19,
   "metadata": {},
   "outputs": [
    {
     "name": "stdout",
     "output_type": "stream",
     "text": [
      "SELECT \"Legislation\".scrap_url, count(\"Legislation\".id) AS count_1, min(\"Legislation\".id) AS min_1 \n",
      "FROM \"Legislation\" GROUP BY \"Legislation\".scrap_url \n",
      "HAVING count(\"Legislation\".id) > :count_2\n",
      "('http://www.opengov.gr/minenv/?p=3423', 2, 704)\n",
      "('http://www.opengov.gr/minenv/?p=3494', 2, 701)\n",
      "('http://www.opengov.gr/minenv/?p=3531', 2, 700)\n",
      "('http://www.opengov.gr/minenv/?p=3731', 2, 697)\n",
      "('http://www.opengov.gr/ministryofjustice/?p=1830', 2, 696)\n",
      "('http://www.opengov.gr/minreform/?p=178', 2, 702)\n",
      "('http://www.opengov.gr/yme/?p=2303', 2, 698)\n",
      "('http://www.opengov.gr/ypepth/?p=1128', 2, 703)\n",
      "('http://www.opengov.gr/ypepth/?p=1345', 2, 705)\n",
      "('http://www.opengov.gr/ypepth/?p=1436', 2, 699)\n"
     ]
    }
   ],
   "source": [
    "with Session(engine) as sess:\n",
    "    stmt = select(Legislation.scrap_url, func.count(Legislation.id), func.min(Legislation.id))\\\n",
    "            .group_by(Legislation.scrap_url).having(func.count(Legislation.id) > 1)\n",
    "    print(stmt)\n",
    "    rows = sess.execute(stmt)\n",
    "    for row in rows:\n",
    "        print(f\"{row}\")\n"
   ]
  },
  {
   "cell_type": "markdown",
   "metadata": {},
   "source": [
    "Add Column Alias"
   ]
  },
  {
   "cell_type": "code",
   "execution_count": 21,
   "metadata": {},
   "outputs": [
    {
     "name": "stdout",
     "output_type": "stream",
     "text": [
      "SELECT \"Legislation\".scrap_url, count(\"Legislation\".id) AS \"myLabel\", min(\"Legislation\".id) AS min_1 \n",
      "FROM \"Legislation\" GROUP BY \"Legislation\".scrap_url \n",
      "HAVING count(\"Legislation\".id) > :count_1\n",
      "('http://www.opengov.gr/minenv/?p=3423', 2, 704)\n",
      "('http://www.opengov.gr/minenv/?p=3494', 2, 701)\n",
      "('http://www.opengov.gr/minenv/?p=3531', 2, 700)\n",
      "('http://www.opengov.gr/minenv/?p=3731', 2, 697)\n",
      "('http://www.opengov.gr/ministryofjustice/?p=1830', 2, 696)\n",
      "('http://www.opengov.gr/minreform/?p=178', 2, 702)\n",
      "('http://www.opengov.gr/yme/?p=2303', 2, 698)\n",
      "('http://www.opengov.gr/ypepth/?p=1128', 2, 703)\n",
      "('http://www.opengov.gr/ypepth/?p=1345', 2, 705)\n",
      "('http://www.opengov.gr/ypepth/?p=1436', 2, 699)\n"
     ]
    }
   ],
   "source": [
    "with Session(engine) as sess:\n",
    "    stmt = select(Legislation.scrap_url, func.count(Legislation.id).label(\"myLabel\"), func.min(Legislation.id))\\\n",
    "            .group_by(Legislation.scrap_url).having(func.count(Legislation.id) > 1)\n",
    "    print(stmt)\n",
    "    rows = sess.execute(stmt)\n",
    "    for row in rows:\n",
    "        print(f\"{row}\")"
   ]
  },
  {
   "cell_type": "markdown",
   "metadata": {},
   "source": [
    "using functions (e.g. select count(*) from table)"
   ]
  },
  {
   "cell_type": "code",
   "execution_count": 8,
   "metadata": {},
   "outputs": [
    {
     "name": "stdout",
     "output_type": "stream",
     "text": [
      "[(890,)]\n",
      "1\n"
     ]
    }
   ],
   "source": [
    "with Session(engine) as sess:\n",
    "    stmt = select(func.count()).select_from(Legislation)\n",
    "    result = sess.execute(stmt).all()\n",
    "    print(result)\n",
    "    print(len(result))"
   ]
  },
  {
   "cell_type": "code",
   "execution_count": 25,
   "metadata": {},
   "outputs": [
    {
     "name": "stdout",
     "output_type": "stream",
     "text": [
      "SELECT count(*) AS count_1 \n",
      "FROM \"PublicConsultation\"\n",
      "SELECT lower(\"Legislation\".title) AS lower_1 \n",
      "FROM \"Legislation\"\n",
      "SELECT some_crazy_func(\"Legislation\".ministry, :some_crazy_func_2, :some_crazy_func_3) AS some_crazy_func_1 \n",
      "FROM \"Legislation\"\n"
     ]
    }
   ],
   "source": [
    "stmt = select(func.lower(Legislation.title))\n",
    "print(stmt)\n",
    "\n",
    "# func is as liberal as possible to support any function    \n",
    "stmt = select(func.some_crazy_func(Legislation.ministry,True,17))\n",
    "print(stmt)"
   ]
  },
  {
   "cell_type": "markdown",
   "metadata": {},
   "source": [
    "Update"
   ]
  },
  {
   "cell_type": "code",
   "execution_count": 32,
   "metadata": {},
   "outputs": [
    {
     "name": "stdout",
     "output_type": "stream",
     "text": [
      "Legislation(id=1, title=SomeRandomTitle, ministry=Υπουργείο Εσωτερικών, date_posted=2023-07-10)\n",
      "\n",
      "Legislation(id=1, title=Ολοκλήρωση της δημόσιας ηλεκτρονικής διαβούλευσης για το σχέδιο νόμου του Υπουργείου Εσωτερικών με τίτλο «ΑΡΣΗ ΠΕΡΙΟΡΙΣΜΩΝ ΓΙΑ ΤΗΝ ΕΓΓΡΑΦΗ ΣΤΟΥΣ ΕΙΔΙΚΟΥΣ ΕΚΛΟΓΙΚΟΥΣ ΚΑΤΑΛΟΓΟΥΣ ΕΚΛΟΓΕΩΝ ΕΞΩΤΕΡΙΚΟΥ»., ministry=Υπουργείο Εσωτερικών, date_posted=2023-07-10)\n"
     ]
    }
   ],
   "source": [
    "old_title=\"Ολοκλήρωση της δημόσιας ηλεκτρονικής διαβούλευσης για το σχέδιο νόμου του Υπουργείου Εσωτερικών με τίτλο «ΑΡΣΗ ΠΕΡΙΟΡΙΣΜΩΝ ΓΙΑ ΤΗΝ ΕΓΓΡΑΦΗ ΣΤΟΥΣ ΕΙΔΙΚΟΥΣ ΕΚΛΟΓΙΚΟΥΣ ΚΑΤΑΛΟΓΟΥΣ ΕΚΛΟΓΕΩΝ ΕΞΩΤΕΡΙΚΟΥ».\"\n",
    "with Session(engine) as sess:\n",
    "    sess.execute(\n",
    "        update(Legislation),\n",
    "        [\n",
    "            {\"id\":1, \"title\":\"SomeRandomTitle\"}  # Dictionary must include primary key\n",
    "        ]\n",
    "    )\n",
    "    stmt = select(Legislation).where(Legislation.id==1)\n",
    "    rows = sess.execute(stmt).scalars()\n",
    "    for row in rows:\n",
    "        print(f\"{row}\")  # Verify that the title has indeed changed\n",
    "    \n",
    "    print()\n",
    "\n",
    "    sess.execute(\n",
    "        update(Legislation),\n",
    "        [\n",
    "            {\"id\":1, \"title\":old_title}\n",
    "        ]\n",
    "    )\n",
    "    stmt = select(Legislation).where(Legislation.id==1)\n",
    "    rows = sess.execute(stmt).scalars()\n",
    "    for row in rows:\n",
    "        print(f\"{row}\")  # Verify that the title has been restored to the old one\n",
    "    sess.commit()\n"
   ]
  },
  {
   "cell_type": "markdown",
   "metadata": {},
   "source": [
    "is None, in where clauses"
   ]
  },
  {
   "cell_type": "code",
   "execution_count": 8,
   "metadata": {},
   "outputs": [
    {
     "name": "stdout",
     "output_type": "stream",
     "text": [
      "[Legislation(id=1, title=Ολοκλήρωση της δημόσιας ηλεκτρονικής διαβούλευσης για το σχέδιο νόμου του Υπουργείου Εσωτερικών με τίτλο «ΑΡΣΗ ΠΕΡΙΟΡΙΣΜΩΝ ΓΙΑ ΤΗΝ ΕΓΓΡΑΦΗ ΣΤΟΥΣ ΕΙΔΙΚΟΥΣ ΕΚΛΟΓΙΚΟΥΣ ΚΑΤΑΛΟΓΟΥΣ ΕΚΛΟΓΕΩΝ ΕΞΩΤΕΡΙΚΟΥ»., ministry=Υπουργείο Εσωτερικών, date_posted=2023-07-10), Legislation(id=2, title=Ανοιχτή δημόσια διαβούλευση του Οδηγού Προσβασιμότητας για ιστοτόπους και εφαρμογές για φορητές συσκευές των οργανισμών της Ελληνικής Δημόσιας Διοίκησης, ministry=Υπουργείο Ψηφιακής Διακυβέρνησης, date_posted=2023-04-10), Legislation(id=3, title=Ολοκλήρωση διαβούλευσης για το σχέδιο νόμου με τίτλο «Ρυθμίσεις σχετικά με τους Οργανισμούς Τοπικής Αυτοδιοίκησης α’ και β’ βαθμού – Ρυθμίσεις σχετικά με τον ειδικό εκλογικό χώρο για ΑμεΑ και το δικαίωμα του εκλέγεσθαι – Διατάξεις για την ευζωία των ζώων συντροφιάς – Διατάξεις για το ανθρώπινο δυναμικό του δημοσίου τομέα – Λοιπές ρυθμίσεις του Υπουργείου Εσωτερικών», ministry=Υπουργείο Εσωτερικών, date_posted=2023-03-30)]\n",
      "[Legislation(id=1031, title=Αγορές χρηματοπιστωτικών μέσων και άλλες διατάξεις, ministry=None, date_posted=2007-08-02), Legislation(id=1041, title=Κύρωση Σύμβασης Παραχώρησης του Έργου της Μελέτης, Κατασκευής, Χρηματοδότησης, Λειτουργίας, Συντήρησης και Εκμετάλλευσης του Αυτοκινητοδρόμου «Ιονία Οδός» από Αντίρριο μέχρι Ιωάννινα, ΠΑΘΕ Αθήνα (Α/Κ Μεταμόρφωσης) - Μαλιακός (Σκάρφεια) και Συνδετηρίου Κλάδου του ΠΑΘΕ Σχηματάρι - Χαλκίδα και λοιπές διατάξεις\n",
      "ΕΙΣΗΓΗΤΕΣ: Γ. Παπαγεωργίου, Θ. Κολιοπάνος, ministry=None, date_posted=2007-03-27), Legislation(id=1067, title=Βιώσιμη ανάπτυξη και κοινωνική αξιοποίηση των Ολυμπιακών εγκαταστάσεων, αδειοδότηση, χρήσεις, λειτουργίες τους - Διάρθρωση, οργάνωση και λειτουργία Γενικής Γραμματείας Ολυμπιακής Αξιοποίησης. EΙΣΗΓΗΤΕΣ: Ι. Ιωαννίδης, Ε. Σχοιναράκη - Ηλιάκη, ministry=None, date_posted=2005-05-19), Legislation(id=1077, title=Κύρωση Σύμβασης Παραχώρησης του Έργου της Μελέτης, Κατασκευής, Χρηματοδότησης, Λειτουργίας, Συντήρησης και Εκμετάλλευσης του Αυτοκινητοδρόμου «Ιονία Οδός» από Αντίρριο μέχρι Ιωάννινα, ΠΑΘΕ Αθήνα (Α/Κ Μεταμόρφωσης) - Μαλιακός (Σκάρφεια) και Συνδετηρίου Κλάδου του ΠΑΘΕ Σχηματάρι - Χαλκίδα και λοιπές διατάξεις\n",
      "ΕΙΣΗΓΗΤΕΣ: Γ. Παπαγεωργίου, Θ. Κολιοπάνος, ministry=None, date_posted=2007-03-27), Legislation(id=1093, title=Ανοικτή διάθεση και περαιτέρω χρήση εγγράφων, πληροφοριών και δεδομένων του δημόσιου τομέα, τροποποίηση του ν. 3448/2006 (Α΄ 57), προσαρμογή της εθνικής νομοθεσίας στις διατάξεις της Οδηγίας 2013/37/ΕΕ του Ευρωπαϊκού Κοινοβουλίου και του Συμβουλίου, περαιτέρω ενίσχυση της διαφάνειας, ρυθμίσεις θεμάτων Εισαγωγικού Διαγωνισμού Ε.Σ.Δ.Δ.Α. και άλλες διατάξεις\n",
      ", ministry=None, date_posted=2014-10-24), Legislation(id=1151, title=Πράξεις εισφοράς σε γη και σε χρήμα-Ρυμοτομικές απαλλοτριώσεις και άλλες διατάξεις, ministry=None, date_posted=2014-12-20), Legislation(id=1161, title=Ρυθμίσεις θεμάτων Μεταφορών, Τηλεπικοινωνιών και Δημοσίων Έργων και άλλες διατάξεις., ministry=None, date_posted=2014-12-11), Legislation(id=1162, title=Οργάνωση της νομικής μορφής των θρησκευτικών κοινοτήτων και των ενώσεών τους στην Ελλάδα και άλλες διατάξεις αρμοδιότητας Γενικής Γραμματείας Θρησκευμάτων και λοιπές διατάξεις., ministry=None, date_posted=2014-10-01), Legislation(id=1169, title=Ανάπτυξη ιαματικού τουρισμού και λοιπές διατάξεις.\n",
      "ΕΙΣΗΓΗΤΕΣ: Γ. Κοντογιάννης, Α. Κατσιφάρας, ministry=None, date_posted=2006-10-03), Legislation(id=1172, title=Έρευνα, Τεχνολογική Ανάπτυξη και Καινοτομία και άλλες διατάξεις., ministry=None, date_posted=2014-11-27), Legislation(id=1190, title=Ανοικτή διάθεση και περαιτέρω χρήση εγγράφων, πληροφοριών και δεδομένων του δημόσιου τομέα, τροποποίηση του ν. 3448/2006 (Α΄ 57), προσαρμογή της εθνικής νομοθεσίας στις διατάξεις της Οδηγίας 2013/37/ΕΕ του Ευρωπαϊκού Κοινοβουλίου και του Συμβουλίου, περαιτέρω ενίσχυση της διαφάνειας, ρυθμίσεις θεμάτων Εισαγωγικού Διαγωνισμού Ε.Σ.Δ.Δ.Α. και άλλες διατάξεις\n",
      ", ministry=None, date_posted=2014-10-24), Legislation(id=1193, title=Κύρωση Σύμβασης Παραχώρησης του Έργου της Μελέτης, Κατασκευής, Χρηματοδότησης, Λειτουργίας, Συντήρησης και Εκμετάλλευσης του Αυτοκινητοδρόμου «Ιονία Οδός» από Αντίρριο μέχρι Ιωάννινα, ΠΑΘΕ Αθήνα (Α/Κ Μεταμόρφωσης) - Μαλιακός (Σκάρφεια) και Συνδετηρίου Κλάδου του ΠΑΘΕ Σχηματάρι - Χαλκίδα και λοιπές διατάξεις\n",
      "ΕΙΣΗΓΗΤΕΣ: Γ. Παπαγεωργίου, Θ. Κολιοπάνος, ministry=None, date_posted=2007-03-27), Legislation(id=1194, title=Κύρωση Σύμβασης Παραχώρησης του Έργου της Μελέτης, Κατασκευής, Χρηματοδότησης, Λειτουργίας, Συντήρησης και Εκμετάλλευσης του Αυτοκινητοδρόμου «Ιονία Οδός» από Αντίρριο μέχρι Ιωάννινα, ΠΑΘΕ Αθήνα (Α/Κ Μεταμόρφωσης) - Μαλιακός (Σκάρφεια) και Συνδετηρίου Κλάδου του ΠΑΘΕ Σχηματάρι - Χαλκίδα και λοιπές διατάξεις\n",
      "ΕΙΣΗΓΗΤΕΣ: Γ. Παπαγεωργίου, Θ. Κολιοπάνος, ministry=None, date_posted=2007-03-27), Legislation(id=1196, title=Κίνητρα Ιδιωτικών Επενδύσεων για την Οικονομική Ανάπτυξη και την Περιφερειακή Σύγκλιση.\n",
      "ΕΙΣΗΓΗΤΕΣ: Ν. Λέγκας, Χ. Βερελής., ministry=None, date_posted=2004-12-14), Legislation(id=1215, title=Μεταβολές στη φορολογία εισοδήματος, απλουστεύσεις στον Κώδικα Βιβλίων και Στοιχείων και άλλες διατάξεις. \n",
      "ΕΙΣΗΓΗΤΕΣ: Α. Κωστόπουλος, Α. Μακρυπίδης, ministry=None, date_posted=2006-12-20), Legislation(id=1226, title=Ίδρυση, οργάνωση και λειτουργία αθλητικών επαγγελματικών ενώσεων και άλλες διατάξεις, ministry=None, date_posted=2006-07-11), Legislation(id=1244, title=Περί Ηλεκτρονικών Επικοινωνιών και άλλες διατάξεις\n",
      "ΕΙΣΗΓΗΤΕΣ: Ι. Γαρουφαλιάς, Ε. Στρατάκης., ministry=None, date_posted=2006-01-17)]\n"
     ]
    }
   ],
   "source": [
    "# in clause\n",
    "with Session(engine) as sess:\n",
    "    stmt = select(Legislation).where(Legislation.id.in_([1,2,3]))\n",
    "    legObjs = sess.execute(stmt).scalars().all()\n",
    "    print(legObjs)\n",
    "\n",
    "    # is None clause\n",
    "\n",
    "    stmt = select(Legislation).where(Legislation.ministry.is_(None))\n",
    "    legObjs = sess.execute(stmt).scalars().all()\n",
    "    print(legObjs)\n",
    "\n"
   ]
  },
  {
   "cell_type": "markdown",
   "metadata": {},
   "source": [
    "Select top 1"
   ]
  },
  {
   "cell_type": "code",
   "execution_count": 8,
   "metadata": {},
   "outputs": [
    {
     "name": "stdout",
     "output_type": "stream",
     "text": [
      "Legislation(id=1201, title=Ρυθμίσεις θεμάτων Ανανεώσιμων Πηγών Ενέργειας και άλλες διατάξεις., ministry=Περιβάλλοντος, Ενέργειας και Κλιματικής Αλλαγής, date_posted=2013-10-24)\n"
     ]
    }
   ],
   "source": [
    "with Session(engine) as sess:\n",
    "    url = \"https://www.hellenicparliament.gr/Nomothetiko-Ergo/Anazitisi-Nomothetikou-Ergou?law_id=fd683678-97a0-4d4e-9b6f-7e2658321207\"\n",
    "    stmt = select(Legislation).where(Legislation.scrap_url==url)\n",
    "\n",
    "    r = sess.execute(stmt).scalars().first()\n",
    "    print(r)"
   ]
  },
  {
   "cell_type": "code",
   "execution_count": null,
   "metadata": {},
   "outputs": [],
   "source": []
  }
 ],
 "metadata": {
  "kernelspec": {
   "display_name": ".venv",
   "language": "python",
   "name": "python3"
  },
  "language_info": {
   "codemirror_mode": {
    "name": "ipython",
    "version": 3
   },
   "file_extension": ".py",
   "mimetype": "text/x-python",
   "name": "python",
   "nbconvert_exporter": "python",
   "pygments_lexer": "ipython3",
   "version": "3.10.7"
  },
  "orig_nbformat": 4
 },
 "nbformat": 4,
 "nbformat_minor": 2
}
