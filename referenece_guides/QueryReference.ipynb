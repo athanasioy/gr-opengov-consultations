{
 "cells": [
  {
   "cell_type": "code",
   "execution_count": 13,
   "metadata": {},
   "outputs": [],
   "source": [
    "import os\n",
    "import sys\n",
    "module_path = os.path.abspath(os.path.join('..'))\n",
    "if module_path not in sys.path:\n",
    "    sys.path.append(module_path)"
   ]
  },
  {
   "cell_type": "code",
   "execution_count": 14,
   "metadata": {},
   "outputs": [],
   "source": [
    "from data_objects.article import Article\n",
    "from data_objects.legislation import Legislation,ArticleMapping\n",
    "from data_objects.public_consultation import PublicConsultation\n",
    "from data_objects.base import Base\n",
    "\n",
    "import requests\n",
    "from sqlalchemy import create_engine, select, union_all, func, update, and_\n",
    "from sqlalchemy.orm import Session, aliased\n",
    "\n",
    "from bs4 import BeautifulSoup\n",
    "import time"
   ]
  },
  {
   "cell_type": "code",
   "execution_count": 15,
   "metadata": {},
   "outputs": [
    {
     "data": {
      "text/plain": [
       "['../config.ini']"
      ]
     },
     "execution_count": 15,
     "metadata": {},
     "output_type": "execute_result"
    }
   ],
   "source": [
    "from configparser import ConfigParser\n",
    "\n",
    "config = ConfigParser()\n",
    "config.read(\"../config.ini\")"
   ]
  },
  {
   "cell_type": "code",
   "execution_count": 16,
   "metadata": {},
   "outputs": [],
   "source": [
    "engine = create_engine(config.get('QUERY_REFERENCE', 'db_file'))"
   ]
  },
  {
   "cell_type": "markdown",
   "metadata": {},
   "source": [
    "ORM Query Samples\n",
    "\n",
    "Simple where clause"
   ]
  },
  {
   "cell_type": "code",
   "execution_count": 17,
   "metadata": {},
   "outputs": [
    {
     "name": "stdout",
     "output_type": "stream",
     "text": [
      "[Legislation(id=1, title=Ολοκλήρωση της δημόσιας ηλεκτρονικής διαβούλευσης για το σχέδιο νόμου του Υπουργείου Εσωτερικών με τίτλο «ΑΡΣΗ ΠΕΡΙΟΡΙΣΜΩΝ ΓΙΑ ΤΗΝ ΕΓΓΡΑΦΗ ΣΤΟΥΣ ΕΙΔΙΚΟΥΣ ΕΚΛΟΓΙΚΟΥΣ ΚΑΤΑΛΟΓΟΥΣ ΕΚΛΟΓΕΩΝ ΕΞΩΤΕΡΙΚΟΥ»., ministry=Υπουργείο Εσωτερικών, date_posted=2023-07-10), Legislation(id=2, title=Ανοιχτή δημόσια διαβούλευση του Οδηγού Προσβασιμότητας για ιστοτόπους και εφαρμογές για φορητές συσκευές των οργανισμών της Ελληνικής Δημόσιας Διοίκησης, ministry=Υπουργείο Ψηφιακής Διακυβέρνησης, date_posted=2023-04-10), Legislation(id=3, title=Ολοκλήρωση διαβούλευσης για το σχέδιο νόμου με τίτλο «Ρυθμίσεις σχετικά με τους Οργανισμούς Τοπικής Αυτοδιοίκησης α’ και β’ βαθμού – Ρυθμίσεις σχετικά με τον ειδικό εκλογικό χώρο για ΑμεΑ και το δικαίωμα του εκλέγεσθαι – Διατάξεις για την ευζωία των ζώων συντροφιάς – Διατάξεις για το ανθρώπινο δυναμικό του δημοσίου τομέα – Λοιπές ρυθμίσεις του Υπουργείου Εσωτερικών», ministry=Υπουργείο Εσωτερικών, date_posted=2023-03-30), Legislation(id=4, title=Δημόσια ηλεκτρονική διαβούλευση για το σχέδιο νόμου του Υπουργείου Υγείας με τον τίτλο «ΦΑΡΜΑΚΕΥΤΙΚΟΙ ΣΥΛΛΟΓΟΙ – ΠΑΝΕΛΛΗΝΙΟΣ ΦΑΡΜΑΚΕΥΤΙΚΟΣ ΣΥΛΛΟΓΟΣ – ΙΝΣΤΙΤΟΥΤΟ ΦΑΡΜΑΚΕΥΤΙΚΩΝ ΕΠΙΣΤΗΜΟΝΙΚΩΝ ΕΡΕΥΝΩΝ», ministry=Υπουργείο Υγείας, date_posted=2023-03-17), Legislation(id=5, title=Ολοκλήρωση δημόσιας διαβούλευσης για τη νομοθετική πρωτοβουλία του Υπουργείου Μετανάστευσης και Ασύλου, υπό τον τίτλο: «Κώδικας Μετανάστευσης», ministry=Μετανάστευσης και Ασύλου, date_posted=2023-03-07), Legislation(id=6, title=Πρόσκληση-Διαβούλευση για το Σχέδιο Κανονισμού 47 «Νηολόγιο Αεροσκαφών Ενόπλων Δυνάμεων (ΝΑΕΔ)» της Εθνικής Στρατιωτικής Αρχής Αξιοπλοΐας (ΕΣΑΑ), ministry=Υπουργείο Εθνικής Άμυνας, date_posted=2023-03-01), Legislation(id=7, title=Δημόσια ηλεκτρονική διαβούλευση για το σχέδιο νόμου:«Διατάξεις για την ανάπτυξη, τις υποδομές και τη στήριξη της επιχειρηματικότητας και του τουρισμού», ministry=Υπουργείο Υποδομών και Μεταφορών, date_posted=2023-02-26), Legislation(id=8, title=Ολοκλήρωση διαδικασίας για το σχέδιο νόμου του Υπουργείου Υγείας με τίτλο «Εκσυγχρονισμός του δικαίου για τη δωρεά και μεταμόσχευση οργάνων», ministry=Υπουργείο Υγείας, date_posted=2023-02-24), Legislation(id=9, title=Δημόσια διαβούλευση για τη νομοθετική πρωτοβουλία του Υπουργείου Υποδομών και Μεταφορών υπό τον τίτλο: «Εκσυγχρονισμός των επιβατικών και εμπορευματικών μεταφορών – Διατάξεις για την εύρυθμη λειτουργία των εποπτευόμενων φορέων και άλλες διατάξεις της Γενικής Γραμματείας Μεταφορών», ministry=Υπουργείο Υποδομών και Μεταφορών, date_posted=2023-02-22)]\n"
     ]
    }
   ],
   "source": [
    "with Session(engine) as sess:\n",
    "    stmt = select(Legislation).where(Legislation.id <10)\n",
    "    legislations = sess.scalars(stmt)\n",
    "    l = legislations.all()\n",
    "print(l)\n"
   ]
  },
  {
   "cell_type": "markdown",
   "metadata": {},
   "source": [
    "Join Statement"
   ]
  },
  {
   "cell_type": "code",
   "execution_count": 18,
   "metadata": {},
   "outputs": [
    {
     "name": "stdout",
     "output_type": "stream",
     "text": [
      "1 1 Άρθρο 1 Άρση περιορισμών για την εγγραφή στους ειδικούς εκλογικούς καταλόγους εκλογέων εξωτερικού– Τροποποίηση άρθρων 2 και 4 ν. 4648/2019\n",
      "1 2 Άρθρο 2 Έναρξη ισχύος\n"
     ]
    }
   ],
   "source": [
    "with Session(engine) as sess:\n",
    "    # Join Statement\n",
    "    stmt = select(Legislation, Article).where(Legislation.id == 1).join(Article.legislation)\n",
    "    rows = sess.execute(stmt)\n",
    "    for row in rows:\n",
    "        print(f\"{row.Legislation.id} {row.Article.number} {row.Article.title}\")"
   ]
  },
  {
   "cell_type": "markdown",
   "metadata": {},
   "source": [
    "selecting invidivual attributes"
   ]
  },
  {
   "cell_type": "code",
   "execution_count": 19,
   "metadata": {},
   "outputs": [
    {
     "name": "stdout",
     "output_type": "stream",
     "text": [
      "2, Οδηγός Προσβασιμότητας για ιστοτόπους και εφαρμογές για φορητές συσκευές των οργανισμών της Ελληνικής Δημόσιας Διοίκησης\n"
     ]
    }
   ],
   "source": [
    "with Session(engine) as sess:\n",
    "    stmt = select(Legislation.id, Article.title).join(Article.legislation).where(Legislation.id == 2)\n",
    "    rows = sess.execute(stmt)\n",
    "    for row in rows:\n",
    "        print(f\"{row.id}, {row.title}\")"
   ]
  },
  {
   "cell_type": "markdown",
   "metadata": {},
   "source": [
    "Subqueries"
   ]
  },
  {
   "cell_type": "code",
   "execution_count": 20,
   "metadata": {},
   "outputs": [
    {
     "name": "stdout",
     "output_type": "stream",
     "text": [
      "Legislation(id=1, title=Ολοκλήρωση της δημόσιας ηλεκτρονικής διαβούλευσης για το σχέδιο νόμου του Υπουργείου Εσωτερικών με τίτλο «ΑΡΣΗ ΠΕΡΙΟΡΙΣΜΩΝ ΓΙΑ ΤΗΝ ΕΓΓΡΑΦΗ ΣΤΟΥΣ ΕΙΔΙΚΟΥΣ ΕΚΛΟΓΙΚΟΥΣ ΚΑΤΑΛΟΓΟΥΣ ΕΚΛΟΓΕΩΝ ΕΞΩΤΕΡΙΚΟΥ»., ministry=Υπουργείο Εσωτερικών, date_posted=2023-07-10)\n",
      "Legislation(id=2, title=Ανοιχτή δημόσια διαβούλευση του Οδηγού Προσβασιμότητας για ιστοτόπους και εφαρμογές για φορητές συσκευές των οργανισμών της Ελληνικής Δημόσιας Διοίκησης, ministry=Υπουργείο Ψηφιακής Διακυβέρνησης, date_posted=2023-04-10)\n",
      "Legislation(id=3, title=Ολοκλήρωση διαβούλευσης για το σχέδιο νόμου με τίτλο «Ρυθμίσεις σχετικά με τους Οργανισμούς Τοπικής Αυτοδιοίκησης α’ και β’ βαθμού – Ρυθμίσεις σχετικά με τον ειδικό εκλογικό χώρο για ΑμεΑ και το δικαίωμα του εκλέγεσθαι – Διατάξεις για την ευζωία των ζώων συντροφιάς – Διατάξεις για το ανθρώπινο δυναμικό του δημοσίου τομέα – Λοιπές ρυθμίσεις του Υπουργείου Εσωτερικών», ministry=Υπουργείο Εσωτερικών, date_posted=2023-03-30)\n",
      "Legislation(id=4, title=Δημόσια ηλεκτρονική διαβούλευση για το σχέδιο νόμου του Υπουργείου Υγείας με τον τίτλο «ΦΑΡΜΑΚΕΥΤΙΚΟΙ ΣΥΛΛΟΓΟΙ – ΠΑΝΕΛΛΗΝΙΟΣ ΦΑΡΜΑΚΕΥΤΙΚΟΣ ΣΥΛΛΟΓΟΣ – ΙΝΣΤΙΤΟΥΤΟ ΦΑΡΜΑΚΕΥΤΙΚΩΝ ΕΠΙΣΤΗΜΟΝΙΚΩΝ ΕΡΕΥΝΩΝ», ministry=Υπουργείο Υγείας, date_posted=2023-03-17)\n",
      "Legislation(id=5, title=Ολοκλήρωση δημόσιας διαβούλευσης για τη νομοθετική πρωτοβουλία του Υπουργείου Μετανάστευσης και Ασύλου, υπό τον τίτλο: «Κώδικας Μετανάστευσης», ministry=Μετανάστευσης και Ασύλου, date_posted=2023-03-07)\n",
      "Legislation(id=6, title=Πρόσκληση-Διαβούλευση για το Σχέδιο Κανονισμού 47 «Νηολόγιο Αεροσκαφών Ενόπλων Δυνάμεων (ΝΑΕΔ)» της Εθνικής Στρατιωτικής Αρχής Αξιοπλοΐας (ΕΣΑΑ), ministry=Υπουργείο Εθνικής Άμυνας, date_posted=2023-03-01)\n",
      "Legislation(id=7, title=Δημόσια ηλεκτρονική διαβούλευση για το σχέδιο νόμου:«Διατάξεις για την ανάπτυξη, τις υποδομές και τη στήριξη της επιχειρηματικότητας και του τουρισμού», ministry=Υπουργείο Υποδομών και Μεταφορών, date_posted=2023-02-26)\n",
      "Legislation(id=8, title=Ολοκλήρωση διαδικασίας για το σχέδιο νόμου του Υπουργείου Υγείας με τίτλο «Εκσυγχρονισμός του δικαίου για τη δωρεά και μεταμόσχευση οργάνων», ministry=Υπουργείο Υγείας, date_posted=2023-02-24)\n",
      "Legislation(id=9, title=Δημόσια διαβούλευση για τη νομοθετική πρωτοβουλία του Υπουργείου Υποδομών και Μεταφορών υπό τον τίτλο: «Εκσυγχρονισμός των επιβατικών και εμπορευματικών μεταφορών – Διατάξεις για την εύρυθμη λειτουργία των εποπτευόμενων φορέων και άλλες διατάξεις της Γενικής Γραμματείας Μεταφορών», ministry=Υπουργείο Υποδομών και Μεταφορών, date_posted=2023-02-22)\n"
     ]
    }
   ],
   "source": [
    "with Session(engine) as sess:\n",
    "    inner_stmt = select(Legislation).where(Legislation.id<10)\n",
    "    subq = inner_stmt.subquery()\n",
    "    aliased_legislation = aliased(Legislation, subq)\n",
    "    stmt = select(aliased_legislation)\n",
    "    rows = sess.execute(stmt)\n",
    "    for leg_obj in rows.scalars():\n",
    "        print(leg_obj)\n"
   ]
  },
  {
   "cell_type": "markdown",
   "metadata": {},
   "source": [
    "Union operator"
   ]
  },
  {
   "cell_type": "code",
   "execution_count": 21,
   "metadata": {},
   "outputs": [
    {
     "name": "stdout",
     "output_type": "stream",
     "text": [
      "Legislation(id=1, title=Ολοκλήρωση της δημόσιας ηλεκτρονικής διαβούλευσης για το σχέδιο νόμου του Υπουργείου Εσωτερικών με τίτλο «ΑΡΣΗ ΠΕΡΙΟΡΙΣΜΩΝ ΓΙΑ ΤΗΝ ΕΓΓΡΑΦΗ ΣΤΟΥΣ ΕΙΔΙΚΟΥΣ ΕΚΛΟΓΙΚΟΥΣ ΚΑΤΑΛΟΓΟΥΣ ΕΚΛΟΓΕΩΝ ΕΞΩΤΕΡΙΚΟΥ»., ministry=Υπουργείο Εσωτερικών, date_posted=2023-07-10)\n",
      "Legislation(id=2, title=Ανοιχτή δημόσια διαβούλευση του Οδηγού Προσβασιμότητας για ιστοτόπους και εφαρμογές για φορητές συσκευές των οργανισμών της Ελληνικής Δημόσιας Διοίκησης, ministry=Υπουργείο Ψηφιακής Διακυβέρνησης, date_posted=2023-04-10)\n",
      "Legislation(id=3, title=Ολοκλήρωση διαβούλευσης για το σχέδιο νόμου με τίτλο «Ρυθμίσεις σχετικά με τους Οργανισμούς Τοπικής Αυτοδιοίκησης α’ και β’ βαθμού – Ρυθμίσεις σχετικά με τον ειδικό εκλογικό χώρο για ΑμεΑ και το δικαίωμα του εκλέγεσθαι – Διατάξεις για την ευζωία των ζώων συντροφιάς – Διατάξεις για το ανθρώπινο δυναμικό του δημοσίου τομέα – Λοιπές ρυθμίσεις του Υπουργείου Εσωτερικών», ministry=Υπουργείο Εσωτερικών, date_posted=2023-03-30)\n",
      "Legislation(id=4, title=Δημόσια ηλεκτρονική διαβούλευση για το σχέδιο νόμου του Υπουργείου Υγείας με τον τίτλο «ΦΑΡΜΑΚΕΥΤΙΚΟΙ ΣΥΛΛΟΓΟΙ – ΠΑΝΕΛΛΗΝΙΟΣ ΦΑΡΜΑΚΕΥΤΙΚΟΣ ΣΥΛΛΟΓΟΣ – ΙΝΣΤΙΤΟΥΤΟ ΦΑΡΜΑΚΕΥΤΙΚΩΝ ΕΠΙΣΤΗΜΟΝΙΚΩΝ ΕΡΕΥΝΩΝ», ministry=Υπουργείο Υγείας, date_posted=2023-03-17)\n",
      "Legislation(id=5, title=Ολοκλήρωση δημόσιας διαβούλευσης για τη νομοθετική πρωτοβουλία του Υπουργείου Μετανάστευσης και Ασύλου, υπό τον τίτλο: «Κώδικας Μετανάστευσης», ministry=Μετανάστευσης και Ασύλου, date_posted=2023-03-07)\n"
     ]
    }
   ],
   "source": [
    "with Session(engine) as sess:\n",
    "    u = union_all(\n",
    "        select(Legislation).where(Legislation.id <5),\n",
    "        select(Legislation).where(Legislation.id == 5)\n",
    "    )\n",
    "    stmt = select(Legislation).from_statement(u)\n",
    "    for leg_obj in sess.execute(stmt).scalars():\n",
    "        print(leg_obj)"
   ]
  },
  {
   "cell_type": "markdown",
   "metadata": {},
   "source": [
    "Specify Join"
   ]
  },
  {
   "cell_type": "code",
   "execution_count": 22,
   "metadata": {},
   "outputs": [
    {
     "name": "stdout",
     "output_type": "stream",
     "text": [
      "SELECT \"Legislation\".id, \"Legislation\".title, \"Legislation\".ministry, \"Legislation\".date_posted, \"Legislation\".parliament_url, \"Legislation\".legislation_pdf_url, \"Legislation\".scrap_url, \"Legislation\".final_legislation_id, \"Legislation\".gov_gazzete_number, \"Legislation\".legislation_type, \"Legislation\".law_number, \"Legislation\".no_final_legislation_reason, \"Legislation\".is_public_consultation \n",
      "FROM \"Legislation\" JOIN \"Article\" ON \"Legislation\".id = \"Article\".legislation_id\n"
     ]
    }
   ],
   "source": [
    "with Session(engine) as sess:\n",
    "    stmt = select(Legislation).join(Article, Legislation.id == Article.legislation_id)\n",
    "    print(stmt)"
   ]
  },
  {
   "cell_type": "markdown",
   "metadata": {},
   "source": [
    "Specify Join Multiple Criteria"
   ]
  },
  {
   "cell_type": "code",
   "execution_count": 36,
   "metadata": {},
   "outputs": [
    {
     "name": "stdout",
     "output_type": "stream",
     "text": [
      "SELECT \"Legislation\".id, \"Legislation\".title, \"Legislation\".ministry, \"Legislation\".date_posted, \"Legislation\".parliament_url, \"Legislation\".legislation_pdf_url, \"Legislation\".scrap_url, \"Legislation\".final_legislation_id, \"Legislation\".gov_gazzete_number, \"Legislation\".legislation_type, \"Legislation\".law_number, \"Legislation\".no_final_legislation_reason, \"Legislation\".is_public_consultation \n",
      "FROM \"Legislation\" JOIN \"ArticleMapping\" ON \"Article\".legislation_id = \"ArticleMapping\".legislation_id AND \"Article\".number >= \"ArticleMapping\".public_consultation_article_no \n",
      "WHERE \"Legislation\".is_public_consultation = :is_public_consultation_1\n"
     ]
    }
   ],
   "source": [
    "stmt = select(Legislation).where(Legislation.is_public_consultation==1) \\\n",
    "                          .join(ArticleMapping, and_(Article.legislation_id==ArticleMapping.legislation_id,\n",
    "                                                     Article.number>=ArticleMapping.public_consultation_article_no))\n",
    "print(stmt)"
   ]
  },
  {
   "cell_type": "markdown",
   "metadata": {},
   "source": [
    "Custom ON criteria"
   ]
  },
  {
   "cell_type": "code",
   "execution_count": 24,
   "metadata": {},
   "outputs": [
    {
     "name": "stdout",
     "output_type": "stream",
     "text": [
      "SELECT \"Legislation\".id, \"Legislation\".title, \"Legislation\".ministry, \"Legislation\".date_posted, \"Legislation\".parliament_url, \"Legislation\".legislation_pdf_url, \"Legislation\".scrap_url, \"Legislation\".final_legislation_id, \"Legislation\".gov_gazzete_number, \"Legislation\".legislation_type, \"Legislation\".law_number, \"Legislation\".no_final_legislation_reason, \"Legislation\".is_public_consultation \n",
      "FROM \"Article\" JOIN \"Legislation\" ON \"Legislation\".id = \"Article\".legislation_id AND \"Article\".comments_allowed = true\n"
     ]
    }
   ],
   "source": [
    "with Session(engine) as sess:\n",
    "    stmt = select(Legislation).join(Article.legislation.and_(Article.comments_allowed==True))\n",
    "    print(stmt)"
   ]
  },
  {
   "cell_type": "markdown",
   "metadata": {},
   "source": [
    "Join to Subquery"
   ]
  },
  {
   "cell_type": "code",
   "execution_count": 25,
   "metadata": {},
   "outputs": [
    {
     "name": "stdout",
     "output_type": "stream",
     "text": [
      "SELECT \"Legislation\".id, \"Legislation\".title, \"Legislation\".ministry, \"Legislation\".date_posted, \"Legislation\".parliament_url, \"Legislation\".legislation_pdf_url, \"Legislation\".scrap_url, \"Legislation\".final_legislation_id, \"Legislation\".gov_gazzete_number, \"Legislation\".legislation_type, \"Legislation\".law_number, \"Legislation\".no_final_legislation_reason, \"Legislation\".is_public_consultation \n",
      "FROM \"Legislation\" JOIN (SELECT \"Article\".id AS id, \"Article\".number AS number, \"Article\".title AS title, \"Article\".text AS text, \"Article\".legislation_id AS legislation_id, \"Article\".comments_allowed AS comments_allowed, \"Article\".article_url AS article_url \n",
      "FROM \"Article\" \n",
      "WHERE \"Article\".comments_allowed = false) AS anon_1 ON anon_1.legislation_id = \"Legislation\".id\n",
      "Article(id=5, number=2, title=Άρθρο 2 Αντικείμενο, text= Αντικείμενο του παρόντος Μέρους είναι:α) η εισαγω, legislation_id=3)\n",
      "Article(id=7, number=4, title=Άρθρο 4 Διεξαγωγή υπαίθριων αθλητικών εκδηλώσεων και διοργανώσεων, text= 1. α) Οι υπαίθριες αθλητικές διοργανώσεις και εκδ, legislation_id=3)\n",
      "Article(id=11, number=8, title=Άρθρο 8 Απαλλαγή από ΕΝΦΙΑ – Τροποποίηση παρ. 1 άρθρου 3 ν. 4223/2013, text= 1. Στο πρώτο εδάφιο της περ. β΄ της παρ. 1 του άρ, legislation_id=3)\n",
      "Article(id=12, number=9, title=Άρθρο 9 Ρυθμίσεις για τις δημοτικές κοινότητες που συνιστούν εκλογικές περιφέρειες για την ανάδειξη των δημοτικών συμβούλων – Τροποποίηση παρ. 4 άρθρου 2 ν. 3852/2010, text= Στην παρ. 4 του άρθρου 2 του ν. 3852/2010 (Α΄87) , legislation_id=3)\n",
      "Article(id=13, number=10, title=Άρθρο 10 Συμβολαιογραφικά δικαιώματα στις συμβάσεις συνομολόγησης δανείων εκ μέρους των Περιφερειών – Τροποποίηση παρ. 4 άρθρου 265 ν. 3852/2010, text= Στο πρώτο εδάφιο της παρ. 4 του άρθρου 265 του ν., legislation_id=3)\n",
      "Article(id=16, number=13, title=ΚΕΦΑΛΑΙΟ Δ’ ΔΙΑΤΑΞΕΙΣ ΓΙΑ ΤΗΝ ΕΥΖΩΙΑ ΤΩΝ ΖΩΩΝ ΣΥΝΤΡΟΦΙΑΣ  Άρθρο 13 Μεταφορά σκύλων θεραπείας – Τροποποίηση παρ. 4 άρθρου 17 ν. 4830/2021, text= Στο δεύτερο εδάφιο της παρ. 4 του άρθρου 17 του ν, legislation_id=3)\n",
      "Article(id=17, number=14, title=Άρθρο 14 Μετακίνηση ασυνόδευτου ζώου συντροφιάς με πλοίο – Προσθήκη παρ. 10 στο άρθρο 18 ν. 4830/2021, text= Στο άρθρο 18 του ν. 4830/2021 (Α΄169), περί μεταφ, legislation_id=3)\n",
      "Article(id=18, number=15, title=Άρθρο 15 Πρόσβαση σκύλων θεραπείας στις οργανωμένες παραλίες – Τροποποίηση παρ. 2 άρθρου 19 ν. 4830/2021, text= Στο πρώτο εδάφιο της παρ. 2 του άρθρου 19 του ν. , legislation_id=3)\n",
      "Article(id=20, number=17, title=ΚΕΦΑΛΑΙΟ Ε’ ΜΕΤΑΒΑΤΙΚΕΣ ΔΙΑΤΑΞΕΙΣ  Άρθρο 17 Μεταβατικές διατάξεις, text= 1. Πρόσωπα, τα οποία υπάγονται στην περ. δ) της π, legislation_id=3)\n",
      "Article(id=25, number=22, title=Άρθρο 22 Έλεγχος ασθενούντων υπαλλήλων κατ’ οίκον – Τροποποίηση παρ. 8 άρθρου 60 ν. 1943/1991, text= Οι περ. β’ και γ’ της παρ. 8 του άρθρου 60 του ν., legislation_id=3)\n",
      "Article(id=28, number=25, title=ΜΕΡΟΣ Γ’ ΛΟΙΠΕΣ ΡΥΘΜΙΣΕΙΣ ΥΠΟΥΡΓΕΙΟΥ ΕΣΩΤΕΡΙΚΩΝ  Άρθρο 25 Ληξιαρχική πράξη για την αποτέφρωση νεκρών – Τροποποίηση άρθρου 49 ν. 4277/2014, text= Στο άρθρο 49 του ν. 4277/2014 (Α’ 156) επέρχονται, legislation_id=3)\n",
      "Article(id=29, number=26, title=Άρθρο 26 Μεταφορά τέφρας ανθρώπου ή ζώου συντροφιάς – Προσθήκη παρ. 8 στο άρθρο 49α ν. 4277/2014, text= Στο άρθρο 49α του v. 4277/2014 (Α’ 156) περί διαχ, legislation_id=3)\n",
      "Article(id=30, number=27, title=ΜΕΡΟΣ Δ’ ΕΝΑΡΞΗ ΙΣΧΥΟΣ  Άρθρο 27 Έναρξη ισχύος, text= Η ισχύς του παρόντος αρχίζει από τη δημοσίευσή το, legislation_id=3)\n"
     ]
    }
   ],
   "source": [
    "# https://docs.sqlalchemy.org/en/20/orm/queryguide/select.html#joining-to-subqueries\n",
    "with Session(engine) as sess:\n",
    "    subq = select(Article).where(Article.comments_allowed==False).subquery()\n",
    "    stmt = select(Legislation).join(subq, subq.c.legislation_id == Legislation.id)\n",
    "    print(stmt)\n",
    "    # In order to return subquery results, we need to alias the subq\n",
    "    articles_with_comments = aliased(Article,subq, name=\"articles\")\n",
    "    stmt = select(Legislation,articles_with_comments).join(articles_with_comments).where(Legislation.id==3)\n",
    "    for row in sess.execute(stmt):\n",
    "        print(f\"{row.articles}\")"
   ]
  },
  {
   "cell_type": "markdown",
   "metadata": {},
   "source": [
    "Any (for one-to-many relationships)"
   ]
  },
  {
   "cell_type": "code",
   "execution_count": 26,
   "metadata": {},
   "outputs": [
    {
     "name": "stdout",
     "output_type": "stream",
     "text": [
      "SELECT \"Legislation\".id, \"Legislation\".title, \"Legislation\".ministry, \"Legislation\".date_posted, \"Legislation\".parliament_url, \"Legislation\".legislation_pdf_url, \"Legislation\".scrap_url, \"Legislation\".final_legislation_id, \"Legislation\".gov_gazzete_number, \"Legislation\".legislation_type, \"Legislation\".law_number, \"Legislation\".no_final_legislation_reason, \"Legislation\".is_public_consultation \n",
      "FROM \"Legislation\" \n",
      "WHERE EXISTS (SELECT 1 \n",
      "FROM \"Article\" \n",
      "WHERE \"Legislation\".id = \"Article\".legislation_id AND \"Article\".number = :number_1)\n",
      "SELECT \"Legislation\".id, \"Legislation\".title, \"Legislation\".ministry, \"Legislation\".date_posted, \"Legislation\".parliament_url, \"Legislation\".legislation_pdf_url, \"Legislation\".scrap_url, \"Legislation\".final_legislation_id, \"Legislation\".gov_gazzete_number, \"Legislation\".legislation_type, \"Legislation\".law_number, \"Legislation\".no_final_legislation_reason, \"Legislation\".is_public_consultation \n",
      "FROM \"Legislation\" \n",
      "WHERE NOT (EXISTS (SELECT 1 \n",
      "FROM \"Article\" \n",
      "WHERE \"Legislation\".id = \"Article\".legislation_id AND \"Article\".comments_allowed = :comments_allowed_1))\n"
     ]
    }
   ],
   "source": [
    "with Session(engine) as sess:\n",
    "    stmt = select(Legislation).where(Legislation.articles.any(Article.number==9999))\n",
    "    print(stmt)\n",
    "    # Negation\n",
    "    stmt = select(Legislation).where(~Legislation.articles.any(Article.comments_allowed==0))\n",
    "    print(stmt)"
   ]
  },
  {
   "cell_type": "markdown",
   "metadata": {},
   "source": [
    "Has (for many-to-one relationships)"
   ]
  },
  {
   "cell_type": "code",
   "execution_count": 27,
   "metadata": {},
   "outputs": [
    {
     "name": "stdout",
     "output_type": "stream",
     "text": [
      "SELECT \"PublicConsultation\".id, \"PublicConsultation\".reporter, \"PublicConsultation\".text, \"PublicConsultation\".date_reported, \"PublicConsultation\".url, \"PublicConsultation\".article_id \n",
      "FROM \"PublicConsultation\" \n",
      "WHERE EXISTS (SELECT 1 \n",
      "FROM \"Article\" \n",
      "WHERE \"Article\".id = \"PublicConsultation\".article_id AND \"Article\".number = :number_1)\n"
     ]
    }
   ],
   "source": [
    "with Session(engine) as sess:\n",
    "    stmt = select(PublicConsultation).where(PublicConsultation.articles.has(Article.number==999))\n",
    "    print(stmt)"
   ]
  },
  {
   "cell_type": "markdown",
   "metadata": {},
   "source": [
    "Order By"
   ]
  },
  {
   "cell_type": "code",
   "execution_count": 28,
   "metadata": {},
   "outputs": [
    {
     "name": "stdout",
     "output_type": "stream",
     "text": [
      "SELECT \"Article\".id, \"Article\".number, \"Article\".title, \"Article\".text, \"Article\".legislation_id, \"Article\".comments_allowed, \"Article\".article_url \n",
      "FROM \"Article\" ORDER BY \"Article\".id DESC\n"
     ]
    }
   ],
   "source": [
    "with Session(engine) as session:\n",
    "    stmt = select(Article).order_by(Article.id.desc()) # Article.id.asc() for ascending\n",
    "    print(stmt)"
   ]
  },
  {
   "cell_type": "markdown",
   "metadata": {},
   "source": [
    "Group by / Having\n"
   ]
  },
  {
   "cell_type": "code",
   "execution_count": 29,
   "metadata": {},
   "outputs": [
    {
     "name": "stdout",
     "output_type": "stream",
     "text": [
      "SELECT \"Legislation\".scrap_url, count(\"Legislation\".id) AS count_1, min(\"Legislation\".id) AS min_1 \n",
      "FROM \"Legislation\" GROUP BY \"Legislation\".scrap_url \n",
      "HAVING count(\"Legislation\".id) > :count_2\n",
      "('https://www.hellenicparliament.gr/Nomothetiko-Ergo/Anazitisi-Nomothetikou-Ergou?law_id=185752e7-a8d4-4866-8e58-ab64016dbe0a', 2, 958)\n",
      "('https://www.hellenicparliament.gr/Nomothetiko-Ergo/Anazitisi-Nomothetikou-Ergou?law_id=21ea0129-0b28-4479-b6d5-a839013de48c', 2, 1050)\n",
      "('https://www.hellenicparliament.gr/Nomothetiko-Ergo/Anazitisi-Nomothetikou-Ergou?law_id=2c5c4057-1da6-4b5d-953c-a49100ef17ca', 2, 1137)\n",
      "('https://www.hellenicparliament.gr/Nomothetiko-Ergo/Anazitisi-Nomothetikou-Ergou?law_id=40be718c-1d8b-4ecb-a705-ab17016ca330', 2, 966)\n",
      "('https://www.hellenicparliament.gr/Nomothetiko-Ergo/Anazitisi-Nomothetikou-Ergou?law_id=410420c1-af4d-4141-9d1c-bc30c496a968', 2, 1177)\n",
      "('https://www.hellenicparliament.gr/Nomothetiko-Ergo/Anazitisi-Nomothetikou-Ergou?law_id=4790edbe-1692-44a1-af79-ae7100e90655', 2, 977)\n",
      "('https://www.hellenicparliament.gr/Nomothetiko-Ergo/Anazitisi-Nomothetikou-Ergou?law_id=5a4126ae-0f47-4cd1-a7eb-aa03018829b9', 2, 985)\n",
      "('https://www.hellenicparliament.gr/Nomothetiko-Ergo/Anazitisi-Nomothetikou-Ergou?law_id=8a283599-9f7f-46a7-a950-ab4c015debaa', 2, 961)\n",
      "('https://www.hellenicparliament.gr/Nomothetiko-Ergo/Anazitisi-Nomothetikou-Ergou?law_id=8b57b26c-2490-4a56-abb7-a536013f3790', 2, 1118)\n",
      "('https://www.hellenicparliament.gr/Nomothetiko-Ergo/Anazitisi-Nomothetikou-Ergou?law_id=9f0d5221-bb75-44d4-8292-afbb000c74fc', 2, 894)\n",
      "('https://www.hellenicparliament.gr/Nomothetiko-Ergo/Anazitisi-Nomothetikou-Ergou?law_id=a3633e14-a80e-4bda-9d63-a92800fe3da3', 2, 992)\n",
      "('https://www.hellenicparliament.gr/Nomothetiko-Ergo/Anazitisi-Nomothetikou-Ergou?law_id=a7fbf28f-4bdb-4a7b-a592-a7b7016e9f80', 2, 1062)\n",
      "('https://www.hellenicparliament.gr/Nomothetiko-Ergo/Anazitisi-Nomothetikou-Ergou?law_id=d95c8920-f4a4-46df-8b05-8024e32ccd6a', 2, 1175)\n",
      "('https://www.hellenicparliament.gr/Nomothetiko-Ergo/Anazitisi-Nomothetikou-Ergou?law_id=fd683678-97a0-4d4e-9b6f-7e2658321207', 2, 1201)\n"
     ]
    }
   ],
   "source": [
    "with Session(engine) as sess:\n",
    "    stmt = select(Legislation.scrap_url, func.count(Legislation.id), func.min(Legislation.id))\\\n",
    "            .group_by(Legislation.scrap_url).having(func.count(Legislation.id) > 1)\n",
    "    print(stmt)\n",
    "    rows = sess.execute(stmt)\n",
    "    for row in rows:\n",
    "        print(f\"{row}\")\n"
   ]
  },
  {
   "cell_type": "markdown",
   "metadata": {},
   "source": [
    "Add Column Alias"
   ]
  },
  {
   "cell_type": "code",
   "execution_count": 30,
   "metadata": {},
   "outputs": [
    {
     "name": "stdout",
     "output_type": "stream",
     "text": [
      "SELECT \"Legislation\".scrap_url, count(\"Legislation\".id) AS \"myLabel\", min(\"Legislation\".id) AS min_1 \n",
      "FROM \"Legislation\" GROUP BY \"Legislation\".scrap_url \n",
      "HAVING count(\"Legislation\".id) > :count_1\n",
      "('https://www.hellenicparliament.gr/Nomothetiko-Ergo/Anazitisi-Nomothetikou-Ergou?law_id=185752e7-a8d4-4866-8e58-ab64016dbe0a', 2, 958)\n",
      "('https://www.hellenicparliament.gr/Nomothetiko-Ergo/Anazitisi-Nomothetikou-Ergou?law_id=21ea0129-0b28-4479-b6d5-a839013de48c', 2, 1050)\n",
      "('https://www.hellenicparliament.gr/Nomothetiko-Ergo/Anazitisi-Nomothetikou-Ergou?law_id=2c5c4057-1da6-4b5d-953c-a49100ef17ca', 2, 1137)\n",
      "('https://www.hellenicparliament.gr/Nomothetiko-Ergo/Anazitisi-Nomothetikou-Ergou?law_id=40be718c-1d8b-4ecb-a705-ab17016ca330', 2, 966)\n",
      "('https://www.hellenicparliament.gr/Nomothetiko-Ergo/Anazitisi-Nomothetikou-Ergou?law_id=410420c1-af4d-4141-9d1c-bc30c496a968', 2, 1177)\n",
      "('https://www.hellenicparliament.gr/Nomothetiko-Ergo/Anazitisi-Nomothetikou-Ergou?law_id=4790edbe-1692-44a1-af79-ae7100e90655', 2, 977)\n",
      "('https://www.hellenicparliament.gr/Nomothetiko-Ergo/Anazitisi-Nomothetikou-Ergou?law_id=5a4126ae-0f47-4cd1-a7eb-aa03018829b9', 2, 985)\n",
      "('https://www.hellenicparliament.gr/Nomothetiko-Ergo/Anazitisi-Nomothetikou-Ergou?law_id=8a283599-9f7f-46a7-a950-ab4c015debaa', 2, 961)\n",
      "('https://www.hellenicparliament.gr/Nomothetiko-Ergo/Anazitisi-Nomothetikou-Ergou?law_id=8b57b26c-2490-4a56-abb7-a536013f3790', 2, 1118)\n",
      "('https://www.hellenicparliament.gr/Nomothetiko-Ergo/Anazitisi-Nomothetikou-Ergou?law_id=9f0d5221-bb75-44d4-8292-afbb000c74fc', 2, 894)\n",
      "('https://www.hellenicparliament.gr/Nomothetiko-Ergo/Anazitisi-Nomothetikou-Ergou?law_id=a3633e14-a80e-4bda-9d63-a92800fe3da3', 2, 992)\n",
      "('https://www.hellenicparliament.gr/Nomothetiko-Ergo/Anazitisi-Nomothetikou-Ergou?law_id=a7fbf28f-4bdb-4a7b-a592-a7b7016e9f80', 2, 1062)\n",
      "('https://www.hellenicparliament.gr/Nomothetiko-Ergo/Anazitisi-Nomothetikou-Ergou?law_id=d95c8920-f4a4-46df-8b05-8024e32ccd6a', 2, 1175)\n",
      "('https://www.hellenicparliament.gr/Nomothetiko-Ergo/Anazitisi-Nomothetikou-Ergou?law_id=fd683678-97a0-4d4e-9b6f-7e2658321207', 2, 1201)\n"
     ]
    }
   ],
   "source": [
    "with Session(engine) as sess:\n",
    "    stmt = select(Legislation.scrap_url, func.count(Legislation.id).label(\"myLabel\"), func.min(Legislation.id))\\\n",
    "            .group_by(Legislation.scrap_url).having(func.count(Legislation.id) > 1)\n",
    "    print(stmt)\n",
    "    rows = sess.execute(stmt)\n",
    "    for row in rows:\n",
    "        print(f\"{row}\")"
   ]
  },
  {
   "cell_type": "markdown",
   "metadata": {},
   "source": [
    "using functions (e.g. select count(*) from table)"
   ]
  },
  {
   "cell_type": "code",
   "execution_count": 31,
   "metadata": {},
   "outputs": [
    {
     "name": "stdout",
     "output_type": "stream",
     "text": [
      "[(1268,)]\n",
      "1\n"
     ]
    }
   ],
   "source": [
    "with Session(engine) as sess:\n",
    "    stmt = select(func.count()).select_from(Legislation)\n",
    "    result = sess.execute(stmt).all()\n",
    "    print(result)\n",
    "    print(len(result))"
   ]
  },
  {
   "cell_type": "code",
   "execution_count": 32,
   "metadata": {},
   "outputs": [
    {
     "name": "stdout",
     "output_type": "stream",
     "text": [
      "SELECT lower(\"Legislation\".title) AS lower_1 \n",
      "FROM \"Legislation\"\n",
      "SELECT some_crazy_func(\"Legislation\".ministry, :some_crazy_func_2, :some_crazy_func_3) AS some_crazy_func_1 \n",
      "FROM \"Legislation\"\n"
     ]
    }
   ],
   "source": [
    "stmt = select(func.lower(Legislation.title))\n",
    "print(stmt)\n",
    "\n",
    "# func is as liberal as possible to support any function    \n",
    "stmt = select(func.some_crazy_func(Legislation.ministry,True,17))\n",
    "print(stmt)"
   ]
  },
  {
   "cell_type": "markdown",
   "metadata": {},
   "source": [
    "Update"
   ]
  },
  {
   "cell_type": "code",
   "execution_count": 33,
   "metadata": {},
   "outputs": [
    {
     "name": "stdout",
     "output_type": "stream",
     "text": [
      "Legislation(id=1, title=SomeRandomTitle, ministry=Υπουργείο Εσωτερικών, date_posted=2023-07-10)\n",
      "\n",
      "Legislation(id=1, title=Ολοκλήρωση της δημόσιας ηλεκτρονικής διαβούλευσης για το σχέδιο νόμου του Υπουργείου Εσωτερικών με τίτλο «ΑΡΣΗ ΠΕΡΙΟΡΙΣΜΩΝ ΓΙΑ ΤΗΝ ΕΓΓΡΑΦΗ ΣΤΟΥΣ ΕΙΔΙΚΟΥΣ ΕΚΛΟΓΙΚΟΥΣ ΚΑΤΑΛΟΓΟΥΣ ΕΚΛΟΓΕΩΝ ΕΞΩΤΕΡΙΚΟΥ»., ministry=Υπουργείο Εσωτερικών, date_posted=2023-07-10)\n"
     ]
    }
   ],
   "source": [
    "old_title=\"Ολοκλήρωση της δημόσιας ηλεκτρονικής διαβούλευσης για το σχέδιο νόμου του Υπουργείου Εσωτερικών με τίτλο «ΑΡΣΗ ΠΕΡΙΟΡΙΣΜΩΝ ΓΙΑ ΤΗΝ ΕΓΓΡΑΦΗ ΣΤΟΥΣ ΕΙΔΙΚΟΥΣ ΕΚΛΟΓΙΚΟΥΣ ΚΑΤΑΛΟΓΟΥΣ ΕΚΛΟΓΕΩΝ ΕΞΩΤΕΡΙΚΟΥ».\"\n",
    "with Session(engine) as sess:\n",
    "    sess.execute(\n",
    "        update(Legislation),\n",
    "        [\n",
    "            {\"id\":1, \"title\":\"SomeRandomTitle\"}  # Dictionary must include primary key\n",
    "        ]\n",
    "    )\n",
    "    stmt = select(Legislation).where(Legislation.id==1)\n",
    "    rows = sess.execute(stmt).scalars()\n",
    "    for row in rows:\n",
    "        print(f\"{row}\")  # Verify that the title has indeed changed\n",
    "    \n",
    "    print()\n",
    "\n",
    "    sess.execute(\n",
    "        update(Legislation),\n",
    "        [\n",
    "            {\"id\":1, \"title\":old_title}\n",
    "        ]\n",
    "    )\n",
    "    stmt = select(Legislation).where(Legislation.id==1)\n",
    "    rows = sess.execute(stmt).scalars()\n",
    "    for row in rows:\n",
    "        print(f\"{row}\")  # Verify that the title has been restored to the old one\n",
    "    sess.commit()\n"
   ]
  },
  {
   "cell_type": "markdown",
   "metadata": {},
   "source": [
    "is None, in where clauses"
   ]
  },
  {
   "cell_type": "code",
   "execution_count": 34,
   "metadata": {},
   "outputs": [
    {
     "name": "stdout",
     "output_type": "stream",
     "text": [
      "[Legislation(id=1, title=Ολοκλήρωση της δημόσιας ηλεκτρονικής διαβούλευσης για το σχέδιο νόμου του Υπουργείου Εσωτερικών με τίτλο «ΑΡΣΗ ΠΕΡΙΟΡΙΣΜΩΝ ΓΙΑ ΤΗΝ ΕΓΓΡΑΦΗ ΣΤΟΥΣ ΕΙΔΙΚΟΥΣ ΕΚΛΟΓΙΚΟΥΣ ΚΑΤΑΛΟΓΟΥΣ ΕΚΛΟΓΕΩΝ ΕΞΩΤΕΡΙΚΟΥ»., ministry=Υπουργείο Εσωτερικών, date_posted=2023-07-10), Legislation(id=2, title=Ανοιχτή δημόσια διαβούλευση του Οδηγού Προσβασιμότητας για ιστοτόπους και εφαρμογές για φορητές συσκευές των οργανισμών της Ελληνικής Δημόσιας Διοίκησης, ministry=Υπουργείο Ψηφιακής Διακυβέρνησης, date_posted=2023-04-10), Legislation(id=3, title=Ολοκλήρωση διαβούλευσης για το σχέδιο νόμου με τίτλο «Ρυθμίσεις σχετικά με τους Οργανισμούς Τοπικής Αυτοδιοίκησης α’ και β’ βαθμού – Ρυθμίσεις σχετικά με τον ειδικό εκλογικό χώρο για ΑμεΑ και το δικαίωμα του εκλέγεσθαι – Διατάξεις για την ευζωία των ζώων συντροφιάς – Διατάξεις για το ανθρώπινο δυναμικό του δημοσίου τομέα – Λοιπές ρυθμίσεις του Υπουργείου Εσωτερικών», ministry=Υπουργείο Εσωτερικών, date_posted=2023-03-30)]\n",
      "[Legislation(id=1151, title=Πράξεις εισφοράς σε γη και σε χρήμα-Ρυμοτομικές απαλλοτριώσεις και άλλες διατάξεις, ministry=None, date_posted=2014-12-20), Legislation(id=1161, title=Ρυθμίσεις θεμάτων Μεταφορών, Τηλεπικοινωνιών και Δημοσίων Έργων και άλλες διατάξεις., ministry=None, date_posted=2014-12-11), Legislation(id=1162, title=Οργάνωση της νομικής μορφής των θρησκευτικών κοινοτήτων και των ενώσεών τους στην Ελλάδα και άλλες διατάξεις αρμοδιότητας Γενικής Γραμματείας Θρησκευμάτων και λοιπές διατάξεις., ministry=None, date_posted=2014-10-01), Legislation(id=1172, title=Έρευνα, Τεχνολογική Ανάπτυξη και Καινοτομία και άλλες διατάξεις., ministry=None, date_posted=2014-11-27), Legislation(id=1281, title=Ενσωμάτωση στην ελληνική νομοθεσία: α) της Οδηγίας (ΕΕ) 2016/2102 του Ευρωπαϊκού Κοινοβουλίου και του Συμβουλίου, της 26ης Οκτωβρίου 2016, για την προσβασιμότητα των ιστότοπων και των εφαρμογών για φορητές συσκευές των οργανισμών του δημόσιου τομέα και β) του άρθρου 1 της Οδηγίας (ΕΕ) 2017/2455 του Συμβουλίου της 5ης Δεκεμβρίου 2017, ministry=None, date_posted=2019-02-08), Legislation(id=1295, title=Εναρμόνιση της νομοθεσίας με την Οδηγία 2012/34/ΕΕ του Ευρωπαϊκού Κοινοβουλίου και του \n",
      "Συμβουλίου της 21ης Νοεμβρίου 2012 για τη δημιουργία ενιαίου ευρωπαϊκού σιδηροδρομικού χώρου \n",
      "(ΕΕ L343/32 της 14.12.2012) και άλλες διατάξεις.\n",
      ", ministry=None, date_posted=2016-07-22), Legislation(id=1350, title=Εταιρικοί μετασχηματισμοί και εναρμόνιση του νομοθετικού πλαισίου με τις διατάξεις της Οδηγίας 2014/55/ΕΕ του Ευρωπαϊκού Κοινοβουλίου και του Συμβουλίου της 16ης Απριλίου 2014 για την έκδοση ηλεκτρονικών τιμολογίων στο πλαίσιο δημόσιων συμβάσεων και λοιπές διατάξεις. , ministry=None, date_posted=2019-02-26), Legislation(id=1384, title=Α) Για τη διαχείριση, τον έλεγχο και την εφαρμογή αναπτυξιακών παρεμβάσεων για την προγραμματική περίοδο 2014−2020, Β) Ενσωμάτωση της Οδηγίας 2012/17 του Ευρωπαϊκού Κοινοβουλίου και του Συμβουλίου της 13ης Ιουνίου 2012 (ΕΕ L 156/16.6.2012) στο ελληνικό δίκαιο, τροποποίηση του ν. 3419/2005 (Α 297) και άλλες διατάξεις , ministry=None, date_posted=2014-12-18), Legislation(id=1386, title=Ανοικτή διάθεση και περαιτέρω χρήση εγγράφων, πληροφοριών και δεδομένων του δημόσιου τομέα, τροποποίηση του ν. 3448/2006 (Α΄ 57), προσαρμογή της εθνικής νομοθεσίας στις διατάξεις της Οδηγίας 2013/37/ΕΕ του Ευρωπαϊκού Κοινοβουλίου και του Συμβουλίου, περαιτέρω ενίσχυση της διαφάνειας, ρυθμίσεις θεμάτων Εισαγωγικού Διαγωνισμού Ε.Σ.Δ.Δ.Α. και άλλες διατάξεις\n",
      ", ministry=None, date_posted=2014-10-24), Legislation(id=1387, title=Τροποποίηση Διατάξεων του Κώδικα Κατάστασης Δημοσίων Πολιτικών Διοικητικών Υπαλλήλων Ν.Π.Δ.Δ. (Ν. \n",
      "3528/2007) - Επιλογή Προϊστάμένων Οργανικών Μονάδων και άλλες διατάξεις., ministry=None, date_posted=2014-07-11), Legislation(id=1392, title=Ρυθμίσεις θεμάτων Εφοδιαστικής και άλλες διατάξεις., ministry=None, date_posted=2014-09-30), Legislation(id=1396, title=Αναβάθμιση και βελτίωση των μηχανισμών είσπραξης των ασφαλιστικών φορέων, \n",
      "πρόστιμα για την ανασφάλιστη και αδήλωτη εργασία και λοιπές διατάξεις αρμοδιότητας \n",
      "Υπουργείου Εργασίας, Κοινωνικής Ασφάλισης και Πρόνοιας.\n",
      ", ministry=None, date_posted=2013-12-17), Legislation(id=1437, title=Απλοποίηση της αδειοδότησης τεχνικών επαγγελματικών και μεταποιητικών \n",
      "δραστηριοτήτων και \n",
      "επιχειρηματικών πάρκων και άλλες διατάξεις, ministry=None, date_posted=2011-06-07)]\n"
     ]
    }
   ],
   "source": [
    "# in clause\n",
    "with Session(engine) as sess:\n",
    "    stmt = select(Legislation).where(Legislation.id.in_([1,2,3]))\n",
    "    legObjs = sess.execute(stmt).scalars().all()\n",
    "    print(legObjs)\n",
    "\n",
    "    # is None clause\n",
    "\n",
    "    stmt = select(Legislation).where(Legislation.ministry.is_(None))\n",
    "    legObjs = sess.execute(stmt).scalars().all()\n",
    "    print(legObjs)\n",
    "\n"
   ]
  },
  {
   "cell_type": "markdown",
   "metadata": {},
   "source": [
    "Select top 1"
   ]
  },
  {
   "cell_type": "code",
   "execution_count": 35,
   "metadata": {},
   "outputs": [
    {
     "name": "stdout",
     "output_type": "stream",
     "text": [
      "Legislation(id=1201, title=Ρυθμίσεις θεμάτων Ανανεώσιμων Πηγών Ενέργειας και άλλες διατάξεις., ministry=Περιβάλλοντος, Ενέργειας και Κλιματικής Αλλαγής, date_posted=2013-10-24)\n"
     ]
    }
   ],
   "source": [
    "with Session(engine) as sess:\n",
    "    url = \"https://www.hellenicparliament.gr/Nomothetiko-Ergo/Anazitisi-Nomothetikou-Ergou?law_id=fd683678-97a0-4d4e-9b6f-7e2658321207\"\n",
    "    stmt = select(Legislation).where(Legislation.scrap_url==url)\n",
    "\n",
    "    r = sess.execute(stmt).scalars().first()\n",
    "    print(r)"
   ]
  },
  {
   "cell_type": "code",
   "execution_count": null,
   "metadata": {},
   "outputs": [],
   "source": []
  }
 ],
 "metadata": {
  "kernelspec": {
   "display_name": ".venv",
   "language": "python",
   "name": "python3"
  },
  "language_info": {
   "codemirror_mode": {
    "name": "ipython",
    "version": 3
   },
   "file_extension": ".py",
   "mimetype": "text/x-python",
   "name": "python",
   "nbconvert_exporter": "python",
   "pygments_lexer": "ipython3",
   "version": "3.10.7"
  },
  "orig_nbformat": 4
 },
 "nbformat": 4,
 "nbformat_minor": 2
}
